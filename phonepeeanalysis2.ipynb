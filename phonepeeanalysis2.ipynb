{
 "cells": [
  {
   "cell_type": "code",
   "execution_count": 1,
   "metadata": {},
   "outputs": [],
   "source": [
    "import psycopg2\n",
    "import pandas as pd\n",
    "import plotly.express as px\n",
    "import requests\n",
    "import json\n",
    "import numpy as np"
   ]
  },
  {
   "cell_type": "code",
   "execution_count": 2,
   "metadata": {},
   "outputs": [],
   "source": [
    "#Dataframe Creation\n",
    "\n",
    "#sql connection\n",
    "\n",
    "mydb=psycopg2.connect(host=\"localhost\",\n",
    "                      user=\"postgres\",\n",
    "                      port=\"5432\",\n",
    "                      database=\"phonepe_data\",\n",
    "                      password=\"12345678\")\n",
    "cursor=mydb.cursor()\n",
    "\n",
    "#aggre_insurance_df\n",
    "cursor.execute(\"SELECT * FROM aggregated_insurance\")\n",
    "mydb.commit()\n",
    "table1=cursor.fetchall()\n",
    "\n",
    "Aggre_insurance = pd.DataFrame(table1,columns=(\"States\", \"Years\", \"Quarter\", \"Transaction_type\" , \"Transaction_count\", \"Transaction_amount\"))\n",
    "\n",
    "#aggre_transaction_df\n",
    "cursor.execute(\"SELECT * FROM aggregated_transaction\")\n",
    "mydb.commit()\n",
    "table2=cursor.fetchall()\n",
    "\n",
    "Aggre_transaction = pd.DataFrame(table2,columns=(\"States\", \"Years\", \"Quarter\", \"Transaction_type\" , \"Transaction_count\", \"Transaction_amount\"))\n",
    "\n",
    "#aggre_user_df\n",
    "cursor.execute(\"SELECT * FROM aggregated_user\")\n",
    "mydb.commit()\n",
    "table3=cursor.fetchall()\n",
    "\n",
    "Aggre_user = pd.DataFrame(table3,columns=(\"States\", \"Years\", \"Quarter\", \"Brands\", \"Transaction_count\", \"Percentage\"))\n",
    "\n",
    "#map_insurance_df\n",
    "cursor.execute(\"SELECT * FROM map_insurance\")\n",
    "mydb.commit()\n",
    "table4=cursor.fetchall()\n",
    "\n",
    "Map_Insurance = pd.DataFrame(table4,columns=(\"States\", \"Years\", \"Quarter\", \"Districts\", \"Transaction_count\",\"Transaction_amount\"))\n",
    "\n",
    "\n",
    "#map_transaction_df\n",
    "cursor.execute(\"SELECT * FROM map_transaction\")\n",
    "mydb.commit()\n",
    "table5=cursor.fetchall()\n",
    "\n",
    "Map_transaction = pd.DataFrame(table5,columns=(\"States\", \"Years\", \"Quarter\", \"Districts\" , \"Transaction_count\", \"Transaction_amount\"))\n",
    "\n",
    "#map_user_df\n",
    "cursor.execute(\"SELECT * FROM map_user\")\n",
    "mydb.commit()\n",
    "table6=cursor.fetchall()\n",
    "\n",
    "Map_user = pd.DataFrame(table6,columns=(\"States\", \"Years\", \"Quarter\", \"Districts\", \"RegisteredUsers\",\"AppOpens\"))\n",
    "\n",
    "#top_insurance_df\n",
    "cursor.execute(\"SELECT * FROM top_insurance\")\n",
    "mydb.commit()\n",
    "table7=cursor.fetchall()\n",
    "\n",
    "Top_insurance = pd.DataFrame(table7,columns=(\"States\", \"Years\", \"Quarter\", \"Pincodes\", \"Transaction_count\", \"Transaction_amount\"))\n",
    "\n",
    "#top_transaction_df\n",
    "cursor.execute(\"SELECT * FROM map_transaction\")\n",
    "mydb.commit()\n",
    "table8=cursor.fetchall()\n",
    "\n",
    "Top_transaction = pd.DataFrame(table8,columns=(\"States\", \"Years\", \"Quarter\", \"Pincodes\" , \"Transaction_count\", \"Transaction_amount\"))\n",
    "\n",
    "#top_user_df\n",
    "cursor.execute(\"SELECT * FROM top_user\")\n",
    "mydb.commit()\n",
    "table9=cursor.fetchall()\n",
    "\n",
    "Top_user = pd.DataFrame(table9,columns=(\"States\", \"Years\", \"Quarter\", \"Pincodes\", \"RegisteredUsers\"))"
   ]
  },
  {
   "cell_type": "code",
   "execution_count": 16,
   "metadata": {},
   "outputs": [],
   "source": [
    "\n",
    "def top_chart_transaction_amount(table_name):\n",
    "    mydb=psycopg2.connect(host=\"localhost\",\n",
    "                        user=\"postgres\",\n",
    "                        port=\"5432\",\n",
    "                        database=\"phonepe_data\",\n",
    "                        password=\"12345678\")\n",
    "    cursor=mydb.cursor()\n",
    "\n",
    "    #plot_1\n",
    "    query1 = f'''SELECT states, SUM(transaction_amount) AS transaction_amount\n",
    "                 FROM {table_name}\n",
    "                 GROUP BY states\n",
    "                 ORDER BY transaction_amount DESC \n",
    "                 LIMIT 10;'''\n",
    "\n",
    "    cursor.execute(query1)\n",
    "    table_1 = cursor.fetchall()\n",
    "    mydb.commit()\n",
    "\n",
    "    df_1 = pd.DataFrame(table_1, columns=(\"states\",\"transaction_amount\"))\n",
    "\n",
    "    fig_amount_1 = px.bar(df_1, x=\"states\", y=\"transaction_amount\", title=\"TRANSACTION AMOUNT\", hover_name=\"states\",\n",
    "                        color_discrete_sequence=px.colors.sequential.Aggrnyl, height=800, width=1000)\n",
    "    fig_amount_1.show()\n",
    "\n",
    "\n",
    "\n",
    "    #plot_2\n",
    "    query2 = f'''SELECT states, SUM(transaction_amount) AS transaction_amount\n",
    "                 FROM {table_name}\n",
    "                 GROUP BY states\n",
    "                 ORDER BY transaction_amount \n",
    "                 LIMIT 10;'''\n",
    "\n",
    "    cursor.execute(query2)\n",
    "    table_2 = cursor.fetchall()\n",
    "    mydb.commit()\n",
    "\n",
    "    df_2 = pd.DataFrame(table_2, columns=(\"states\",\"transaction_amount\"))\n",
    "\n",
    "    fig_amount_2 = px.bar(df_2, x=\"states\", y=\"transaction_amount\", title=\"TRANSACTION AMOUNT\", hover_name=\"states\",\n",
    "                        color_discrete_sequence=px.colors.sequential.Aggrnyl_r, height=800, width=1000)\n",
    "    fig_amount_2.show()\n",
    "\n",
    "\n",
    "    #plot_3\n",
    "    query3 = f'''SELECT states, AVG(transaction_amount) AS transaction_amount\n",
    "                 FROM {table_name}\n",
    "                 GROUP BY states\n",
    "                 ORDER BY transaction_amount;'''\n",
    "\n",
    "    cursor.execute(query3)\n",
    "    table_3 = cursor.fetchall()\n",
    "    mydb.commit()\n",
    "\n",
    "    df_3 = pd.DataFrame(table_3, columns=(\"states\",\"transaction_amount\"))\n",
    "\n",
    "    fig_amount_3 = px.bar(df_3, y=\"states\", x=\"transaction_amount\", title=\"TRANSACTION AMOUNT\", hover_name=\"states\", orientation=\"h\",\n",
    "                        color_discrete_sequence=px.colors.sequential.amp_r, height=800, width=1000)\n",
    "    fig_amount_3.show()"
   ]
  },
  {
   "cell_type": "code",
   "execution_count": null,
   "metadata": {},
   "outputs": [],
   "source": [
    "top_chart_transaction_amount(\"aggregated_transaction\")"
   ]
  },
  {
   "cell_type": "code",
   "execution_count": 20,
   "metadata": {},
   "outputs": [],
   "source": [
    "\n",
    "def top_chart_transaction_count(table_name):\n",
    "    mydb=psycopg2.connect(host=\"localhost\",\n",
    "                        user=\"postgres\",\n",
    "                        port=\"5432\",\n",
    "                        database=\"phonepe_data\",\n",
    "                        password=\"12345678\")\n",
    "    cursor=mydb.cursor()\n",
    "\n",
    "    #plot_1\n",
    "    query1 = f'''SELECT states, SUM(transaction_count) AS transaction_count\n",
    "                 FROM {table_name}\n",
    "                 GROUP BY states\n",
    "                 ORDER BY transaction_count DESC \n",
    "                 LIMIT 10;'''\n",
    "\n",
    "    cursor.execute(query1)\n",
    "    table_1 = cursor.fetchall()\n",
    "    mydb.commit()\n",
    "\n",
    "    df_1 = pd.DataFrame(table_1, columns=(\"states\",\"transaction_count\"))\n",
    "\n",
    "    fig_amount_1 = px.bar(df_1, x=\"states\", y=\"transaction_count\", title=\"TRANSACTION COUNT\", hover_name=\"states\",\n",
    "                        color_discrete_sequence=px.colors.sequential.Aggrnyl, height=800, width=1000)\n",
    "    fig_amount_1.show()\n",
    "\n",
    "\n",
    "\n",
    "    #plot_2\n",
    "    query2 = f'''SELECT states, SUM(transaction_count) AS transaction_count\n",
    "                 FROM {table_name}\n",
    "                 GROUP BY states\n",
    "                 ORDER BY transaction_count \n",
    "                 LIMIT 10;'''\n",
    "\n",
    "    cursor.execute(query2)\n",
    "    table_2 = cursor.fetchall()\n",
    "    mydb.commit()\n",
    "\n",
    "    df_2 = pd.DataFrame(table_2, columns=(\"states\",\"transaction_count\"))\n",
    "\n",
    "    fig_amount_2 = px.bar(df_2, x=\"states\", y=\"transaction_count\", title=\"TRANSACTION COUNT\", hover_name=\"states\",\n",
    "                        color_discrete_sequence=px.colors.sequential.Aggrnyl_r, height=800, width=1000)\n",
    "    fig_amount_2.show()\n",
    "\n",
    "\n",
    "    #plot_3\n",
    "    query3 = f'''SELECT states, AVG(transaction_count) AS transaction_count\n",
    "                 FROM {table_name}\n",
    "                 GROUP BY states\n",
    "                 ORDER BY transaction_count;'''\n",
    "\n",
    "    cursor.execute(query3)\n",
    "    table_3 = cursor.fetchall()\n",
    "    mydb.commit()\n",
    "\n",
    "    df_3 = pd.DataFrame(table_3, columns=(\"states\",\"transaction_count\"))\n",
    "\n",
    "    fig_amount_3 = px.bar(df_3, y=\"states\", x=\"transaction_count\", title=\"TRANSACTION COUNT\", hover_name=\"states\", orientation=\"h\",\n",
    "                        color_discrete_sequence=px.colors.sequential.amp_r, height=800, width=1000)\n",
    "    fig_amount_3.show()"
   ]
  },
  {
   "cell_type": "code",
   "execution_count": null,
   "metadata": {},
   "outputs": [],
   "source": [
    "top_chart_transaction_count(\"aggregated_insurance\")"
   ]
  },
  {
   "cell_type": "code",
   "execution_count": 26,
   "metadata": {},
   "outputs": [],
   "source": [
    "\n",
    "def top_chart_registered_user(table_name, state):\n",
    "    mydb=psycopg2.connect(host=\"localhost\",\n",
    "                        user=\"postgres\",\n",
    "                        port=\"5432\",\n",
    "                        database=\"phonepe_data\",\n",
    "                        password=\"12345678\")\n",
    "    cursor=mydb.cursor()\n",
    "\n",
    "    #plot_1\n",
    "    query1 = f'''SELECT districts, SUM(registeredusers) AS registeredusers\n",
    "                 FROM {table_name}\n",
    "                 WHERE states = '{state}'\n",
    "                 GROUP BY districts\n",
    "                 ORDER BY registeredusers DESC\n",
    "                 LIMIT 10;'''\n",
    "\n",
    "    cursor.execute(query1)\n",
    "    table_1 = cursor.fetchall()\n",
    "    mydb.commit()\n",
    "\n",
    "    df_1 = pd.DataFrame(table_1, columns=(\"districts\",\"registeredusers\"))\n",
    "\n",
    "    fig_amount_1 = px.bar(df_1, x=\"districts\", y=\"registeredusers\", title=\"TOP 10 OF REGISTERED USER\", hover_name=\"districts\",\n",
    "                        color_discrete_sequence=px.colors.sequential.Aggrnyl, height=800, width=1000)\n",
    "    fig_amount_1.show()\n",
    "\n",
    "\n",
    "\n",
    "    #plot_2\n",
    "    query2 = f'''SELECT districts, SUM(registeredusers) AS registeredusers\n",
    "                 FROM {table_name}\n",
    "                 WHERE states = '{state}'\n",
    "                 GROUP BY districts\n",
    "                 ORDER BY registeredusers \n",
    "                 LIMIT 10;'''\n",
    "\n",
    "    cursor.execute(query2)\n",
    "    table_2 = cursor.fetchall()\n",
    "    mydb.commit()\n",
    "\n",
    "    df_2 = pd.DataFrame(table_2, columns=(\"districts\",\"registeredusers\"))\n",
    "\n",
    "    fig_amount_2 = px.bar(df_2, x=\"districts\", y=\"registeredusers\", title=\"LAST 10 OF REGISTERED USER\", hover_name=\"districts\",\n",
    "                        color_discrete_sequence=px.colors.sequential.Aggrnyl_r, height=800, width=1000)\n",
    "    fig_amount_2.show()\n",
    "\n",
    "\n",
    "    #plot_3\n",
    "    query3 = f'''SELECT districts, AVG(registeredusers) AS registeredusers\n",
    "                 FROM {table_name}\n",
    "                 WHERE states = '{state}'\n",
    "                 GROUP BY districts\n",
    "                 ORDER BY registeredusers;'''\n",
    "\n",
    "    cursor.execute(query3)\n",
    "    table_3 = cursor.fetchall()\n",
    "    mydb.commit()\n",
    "\n",
    "    df_3 = pd.DataFrame(table_3, columns=(\"districts\",\"registeredusers\"))\n",
    "\n",
    "    fig_amount_3 = px.bar(df_3, y=\"districts\", x=\"registeredusers\", title=\"AVERGE OF REGISTERED USER\", hover_name=\"districts\", orientation=\"h\",\n",
    "                        color_discrete_sequence=px.colors.sequential.amp_r, height=800, width=1000)\n",
    "    fig_amount_3.show()"
   ]
  },
  {
   "cell_type": "code",
   "execution_count": null,
   "metadata": {},
   "outputs": [],
   "source": [
    "top_chart_registered_user(\"map_user\",\"Tamil Nadu\")"
   ]
  },
  {
   "cell_type": "code",
   "execution_count": 28,
   "metadata": {},
   "outputs": [],
   "source": [
    "\n",
    "def top_chart_appopens(table_name, state):\n",
    "    mydb=psycopg2.connect(host=\"localhost\",\n",
    "                        user=\"postgres\",\n",
    "                        port=\"5432\",\n",
    "                        database=\"phonepe_data\",\n",
    "                        password=\"12345678\")\n",
    "    cursor=mydb.cursor()\n",
    "\n",
    "    #plot_1\n",
    "    query1 = f'''SELECT districts, SUM(appopens) AS appopens\n",
    "                 FROM {table_name}\n",
    "                 WHERE states = '{state}'\n",
    "                 GROUP BY districts\n",
    "                 ORDER BY appopens DESC\n",
    "                 LIMIT 10;'''\n",
    "\n",
    "    cursor.execute(query1)\n",
    "    table_1 = cursor.fetchall()\n",
    "    mydb.commit()\n",
    "\n",
    "    df_1 = pd.DataFrame(table_1, columns=(\"districts\",\"appopens\"))\n",
    "\n",
    "    fig_amount_1 = px.bar(df_1, x=\"districts\", y=\"appopens\", title=\"TOP 10 OF APPOPENS\", hover_name=\"districts\",\n",
    "                        color_discrete_sequence=px.colors.sequential.Aggrnyl, height=800, width=1000)\n",
    "    fig_amount_1.show()\n",
    "\n",
    "\n",
    "\n",
    "    #plot_2\n",
    "    query2 = f'''SELECT districts, SUM(appopens) AS appopens\n",
    "                 FROM {table_name}\n",
    "                 WHERE states = '{state}'\n",
    "                 GROUP BY districts\n",
    "                 ORDER BY appopens \n",
    "                 LIMIT 10;'''\n",
    "\n",
    "    cursor.execute(query2)\n",
    "    table_2 = cursor.fetchall()\n",
    "    mydb.commit()\n",
    "\n",
    "    df_2 = pd.DataFrame(table_2, columns=(\"districts\",\"appopens\"))\n",
    "\n",
    "    fig_amount_2 = px.bar(df_2, x=\"districts\", y=\"appopens\", title=\"LAST 10 OF APPOPENS\", hover_name=\"districts\",\n",
    "                        color_discrete_sequence=px.colors.sequential.Aggrnyl_r, height=800, width=1000)\n",
    "    fig_amount_2.show()\n",
    "\n",
    "\n",
    "    #plot_3\n",
    "    query3 = f'''SELECT districts, AVG(appopens) AS appopens\n",
    "                 FROM {table_name}\n",
    "                 WHERE states = '{state}'\n",
    "                 GROUP BY districts\n",
    "                 ORDER BY appopens;'''\n",
    "\n",
    "    cursor.execute(query3)\n",
    "    table_3 = cursor.fetchall()\n",
    "    mydb.commit()\n",
    "\n",
    "    df_3 = pd.DataFrame(table_3, columns=(\"districts\",\"appopens\"))\n",
    "\n",
    "    fig_amount_3 = px.bar(df_3, y=\"districts\", x=\"appopens\", title=\"AVERGE OF APPOPENS\", hover_name=\"districts\", orientation=\"h\",\n",
    "                        color_discrete_sequence=px.colors.sequential.amp_r, height=800, width=1000)\n",
    "    fig_amount_3.show()"
   ]
  },
  {
   "cell_type": "code",
   "execution_count": null,
   "metadata": {},
   "outputs": [],
   "source": [
    "top_chart_appopens(\"map_user\",\"Tamil Nadu\")"
   ]
  },
  {
   "cell_type": "code",
   "execution_count": 32,
   "metadata": {},
   "outputs": [],
   "source": [
    "\n",
    "def top_chart_registered_users(table_name):\n",
    "    mydb=psycopg2.connect(host=\"localhost\",\n",
    "                        user=\"postgres\",\n",
    "                        port=\"5432\",\n",
    "                        database=\"phonepe_data\",\n",
    "                        password=\"12345678\")\n",
    "    cursor=mydb.cursor()\n",
    "\n",
    "    #plot_1\n",
    "    query1 = f'''SELECT states,SUM(registeredusers) AS registeredusers \n",
    "                 FROM {table_name}\n",
    "                 GROUP BY states\n",
    "                 ORDER BY registeredusers DESC\n",
    "                 LIMIT 10;'''\n",
    "\n",
    "    cursor.execute(query1)\n",
    "    table_1 = cursor.fetchall()\n",
    "    mydb.commit()\n",
    "\n",
    "    df_1 = pd.DataFrame(table_1, columns=(\"states\",\"registeredusers\"))\n",
    "\n",
    "    fig_amount_1 = px.bar(df_1, x=\"states\", y=\"registeredusers\", title=\"TOP 10 OF REGISTERED USERS\", hover_name=\"states\",\n",
    "                        color_discrete_sequence=px.colors.sequential.Aggrnyl, height=800, width=1000)\n",
    "    fig_amount_1.show()\n",
    "\n",
    "\n",
    "\n",
    "    #plot_2\n",
    "    query2 = f'''SELECT states,SUM(registeredusers) AS registeredusers \n",
    "                 FROM {table_name}\n",
    "                 GROUP BY states\n",
    "                 ORDER BY registeredusers\n",
    "                 LIMIT 10;'''\n",
    "\n",
    "    cursor.execute(query2)\n",
    "    table_2 = cursor.fetchall()\n",
    "    mydb.commit()\n",
    "\n",
    "    df_2 = pd.DataFrame(table_2, columns=(\"states\",\"registeredusers\"))\n",
    "\n",
    "    fig_amount_2 = px.bar(df_2, x=\"states\", y=\"registeredusers\", title=\"LAST 10 OF REGISTERED USERS\", hover_name=\"states\",\n",
    "                        color_discrete_sequence=px.colors.sequential.Aggrnyl_r, height=800, width=1000)\n",
    "    fig_amount_2.show()\n",
    "\n",
    "\n",
    "    #plot_3\n",
    "    query3 = f'''SELECT states, AVG(registeredusers) AS registeredusers \n",
    "                 FROM {table_name}\n",
    "                 GROUP BY states\n",
    "                 ORDER BY registeredusers;'''\n",
    "\n",
    "    cursor.execute(query3)\n",
    "    table_3 = cursor.fetchall()\n",
    "    mydb.commit()\n",
    "\n",
    "    df_3 = pd.DataFrame(table_3, columns=(\"states\",\"registeredusers\"))\n",
    "\n",
    "    fig_amount_3 = px.bar(df_3, y=\"states\", x=\"registeredusers\", title=\"AVERGE OF REGISTERED USERS\", hover_name=\"states\", orientation=\"h\",\n",
    "                        color_discrete_sequence=px.colors.sequential.amp_r, height=800, width=1000)\n",
    "    fig_amount_3.show()"
   ]
  },
  {
   "cell_type": "code",
   "execution_count": 33,
   "metadata": {},
   "outputs": [
    {
     "data": {
      "application/vnd.plotly.v1+json": {
       "config": {
        "plotlyServerURL": "https://plot.ly"
       },
       "data": [
        {
         "alignmentgroup": "True",
         "hovertemplate": "<b>%{hovertext}</b><br><br>states=%{x}<br>registeredusers=%{y}<extra></extra>",
         "hovertext": [
          "Delhi",
          "Karnataka",
          "Uttar Pradesh",
          "Maharashtra",
          "Haryana",
          "Telangana",
          "Rajasthan",
          "Gujarat",
          "Madhya Pradesh",
          "Bihar"
         ],
         "legendgroup": "",
         "marker": {
          "color": "rgb(36, 86, 104)",
          "pattern": {
           "shape": ""
          }
         },
         "name": "",
         "offsetgroup": "",
         "orientation": "v",
         "showlegend": false,
         "textposition": "auto",
         "type": "bar",
         "x": [
          "Delhi",
          "Karnataka",
          "Uttar Pradesh",
          "Maharashtra",
          "Haryana",
          "Telangana",
          "Rajasthan",
          "Gujarat",
          "Madhya Pradesh",
          "Bihar"
         ],
         "xaxis": "x",
         "y": [
          240313344,
          221880591,
          213696564,
          213662910,
          183420204,
          175103670,
          160968909,
          133336281,
          127126773,
          117040812
         ],
         "yaxis": "y"
        }
       ],
       "layout": {
        "barmode": "relative",
        "height": 800,
        "legend": {
         "tracegroupgap": 0
        },
        "template": {
         "data": {
          "bar": [
           {
            "error_x": {
             "color": "#2a3f5f"
            },
            "error_y": {
             "color": "#2a3f5f"
            },
            "marker": {
             "line": {
              "color": "#E5ECF6",
              "width": 0.5
             },
             "pattern": {
              "fillmode": "overlay",
              "size": 10,
              "solidity": 0.2
             }
            },
            "type": "bar"
           }
          ],
          "barpolar": [
           {
            "marker": {
             "line": {
              "color": "#E5ECF6",
              "width": 0.5
             },
             "pattern": {
              "fillmode": "overlay",
              "size": 10,
              "solidity": 0.2
             }
            },
            "type": "barpolar"
           }
          ],
          "carpet": [
           {
            "aaxis": {
             "endlinecolor": "#2a3f5f",
             "gridcolor": "white",
             "linecolor": "white",
             "minorgridcolor": "white",
             "startlinecolor": "#2a3f5f"
            },
            "baxis": {
             "endlinecolor": "#2a3f5f",
             "gridcolor": "white",
             "linecolor": "white",
             "minorgridcolor": "white",
             "startlinecolor": "#2a3f5f"
            },
            "type": "carpet"
           }
          ],
          "choropleth": [
           {
            "colorbar": {
             "outlinewidth": 0,
             "ticks": ""
            },
            "type": "choropleth"
           }
          ],
          "contour": [
           {
            "colorbar": {
             "outlinewidth": 0,
             "ticks": ""
            },
            "colorscale": [
             [
              0,
              "#0d0887"
             ],
             [
              0.1111111111111111,
              "#46039f"
             ],
             [
              0.2222222222222222,
              "#7201a8"
             ],
             [
              0.3333333333333333,
              "#9c179e"
             ],
             [
              0.4444444444444444,
              "#bd3786"
             ],
             [
              0.5555555555555556,
              "#d8576b"
             ],
             [
              0.6666666666666666,
              "#ed7953"
             ],
             [
              0.7777777777777778,
              "#fb9f3a"
             ],
             [
              0.8888888888888888,
              "#fdca26"
             ],
             [
              1,
              "#f0f921"
             ]
            ],
            "type": "contour"
           }
          ],
          "contourcarpet": [
           {
            "colorbar": {
             "outlinewidth": 0,
             "ticks": ""
            },
            "type": "contourcarpet"
           }
          ],
          "heatmap": [
           {
            "colorbar": {
             "outlinewidth": 0,
             "ticks": ""
            },
            "colorscale": [
             [
              0,
              "#0d0887"
             ],
             [
              0.1111111111111111,
              "#46039f"
             ],
             [
              0.2222222222222222,
              "#7201a8"
             ],
             [
              0.3333333333333333,
              "#9c179e"
             ],
             [
              0.4444444444444444,
              "#bd3786"
             ],
             [
              0.5555555555555556,
              "#d8576b"
             ],
             [
              0.6666666666666666,
              "#ed7953"
             ],
             [
              0.7777777777777778,
              "#fb9f3a"
             ],
             [
              0.8888888888888888,
              "#fdca26"
             ],
             [
              1,
              "#f0f921"
             ]
            ],
            "type": "heatmap"
           }
          ],
          "heatmapgl": [
           {
            "colorbar": {
             "outlinewidth": 0,
             "ticks": ""
            },
            "colorscale": [
             [
              0,
              "#0d0887"
             ],
             [
              0.1111111111111111,
              "#46039f"
             ],
             [
              0.2222222222222222,
              "#7201a8"
             ],
             [
              0.3333333333333333,
              "#9c179e"
             ],
             [
              0.4444444444444444,
              "#bd3786"
             ],
             [
              0.5555555555555556,
              "#d8576b"
             ],
             [
              0.6666666666666666,
              "#ed7953"
             ],
             [
              0.7777777777777778,
              "#fb9f3a"
             ],
             [
              0.8888888888888888,
              "#fdca26"
             ],
             [
              1,
              "#f0f921"
             ]
            ],
            "type": "heatmapgl"
           }
          ],
          "histogram": [
           {
            "marker": {
             "pattern": {
              "fillmode": "overlay",
              "size": 10,
              "solidity": 0.2
             }
            },
            "type": "histogram"
           }
          ],
          "histogram2d": [
           {
            "colorbar": {
             "outlinewidth": 0,
             "ticks": ""
            },
            "colorscale": [
             [
              0,
              "#0d0887"
             ],
             [
              0.1111111111111111,
              "#46039f"
             ],
             [
              0.2222222222222222,
              "#7201a8"
             ],
             [
              0.3333333333333333,
              "#9c179e"
             ],
             [
              0.4444444444444444,
              "#bd3786"
             ],
             [
              0.5555555555555556,
              "#d8576b"
             ],
             [
              0.6666666666666666,
              "#ed7953"
             ],
             [
              0.7777777777777778,
              "#fb9f3a"
             ],
             [
              0.8888888888888888,
              "#fdca26"
             ],
             [
              1,
              "#f0f921"
             ]
            ],
            "type": "histogram2d"
           }
          ],
          "histogram2dcontour": [
           {
            "colorbar": {
             "outlinewidth": 0,
             "ticks": ""
            },
            "colorscale": [
             [
              0,
              "#0d0887"
             ],
             [
              0.1111111111111111,
              "#46039f"
             ],
             [
              0.2222222222222222,
              "#7201a8"
             ],
             [
              0.3333333333333333,
              "#9c179e"
             ],
             [
              0.4444444444444444,
              "#bd3786"
             ],
             [
              0.5555555555555556,
              "#d8576b"
             ],
             [
              0.6666666666666666,
              "#ed7953"
             ],
             [
              0.7777777777777778,
              "#fb9f3a"
             ],
             [
              0.8888888888888888,
              "#fdca26"
             ],
             [
              1,
              "#f0f921"
             ]
            ],
            "type": "histogram2dcontour"
           }
          ],
          "mesh3d": [
           {
            "colorbar": {
             "outlinewidth": 0,
             "ticks": ""
            },
            "type": "mesh3d"
           }
          ],
          "parcoords": [
           {
            "line": {
             "colorbar": {
              "outlinewidth": 0,
              "ticks": ""
             }
            },
            "type": "parcoords"
           }
          ],
          "pie": [
           {
            "automargin": true,
            "type": "pie"
           }
          ],
          "scatter": [
           {
            "fillpattern": {
             "fillmode": "overlay",
             "size": 10,
             "solidity": 0.2
            },
            "type": "scatter"
           }
          ],
          "scatter3d": [
           {
            "line": {
             "colorbar": {
              "outlinewidth": 0,
              "ticks": ""
             }
            },
            "marker": {
             "colorbar": {
              "outlinewidth": 0,
              "ticks": ""
             }
            },
            "type": "scatter3d"
           }
          ],
          "scattercarpet": [
           {
            "marker": {
             "colorbar": {
              "outlinewidth": 0,
              "ticks": ""
             }
            },
            "type": "scattercarpet"
           }
          ],
          "scattergeo": [
           {
            "marker": {
             "colorbar": {
              "outlinewidth": 0,
              "ticks": ""
             }
            },
            "type": "scattergeo"
           }
          ],
          "scattergl": [
           {
            "marker": {
             "colorbar": {
              "outlinewidth": 0,
              "ticks": ""
             }
            },
            "type": "scattergl"
           }
          ],
          "scattermapbox": [
           {
            "marker": {
             "colorbar": {
              "outlinewidth": 0,
              "ticks": ""
             }
            },
            "type": "scattermapbox"
           }
          ],
          "scatterpolar": [
           {
            "marker": {
             "colorbar": {
              "outlinewidth": 0,
              "ticks": ""
             }
            },
            "type": "scatterpolar"
           }
          ],
          "scatterpolargl": [
           {
            "marker": {
             "colorbar": {
              "outlinewidth": 0,
              "ticks": ""
             }
            },
            "type": "scatterpolargl"
           }
          ],
          "scatterternary": [
           {
            "marker": {
             "colorbar": {
              "outlinewidth": 0,
              "ticks": ""
             }
            },
            "type": "scatterternary"
           }
          ],
          "surface": [
           {
            "colorbar": {
             "outlinewidth": 0,
             "ticks": ""
            },
            "colorscale": [
             [
              0,
              "#0d0887"
             ],
             [
              0.1111111111111111,
              "#46039f"
             ],
             [
              0.2222222222222222,
              "#7201a8"
             ],
             [
              0.3333333333333333,
              "#9c179e"
             ],
             [
              0.4444444444444444,
              "#bd3786"
             ],
             [
              0.5555555555555556,
              "#d8576b"
             ],
             [
              0.6666666666666666,
              "#ed7953"
             ],
             [
              0.7777777777777778,
              "#fb9f3a"
             ],
             [
              0.8888888888888888,
              "#fdca26"
             ],
             [
              1,
              "#f0f921"
             ]
            ],
            "type": "surface"
           }
          ],
          "table": [
           {
            "cells": {
             "fill": {
              "color": "#EBF0F8"
             },
             "line": {
              "color": "white"
             }
            },
            "header": {
             "fill": {
              "color": "#C8D4E3"
             },
             "line": {
              "color": "white"
             }
            },
            "type": "table"
           }
          ]
         },
         "layout": {
          "annotationdefaults": {
           "arrowcolor": "#2a3f5f",
           "arrowhead": 0,
           "arrowwidth": 1
          },
          "autotypenumbers": "strict",
          "coloraxis": {
           "colorbar": {
            "outlinewidth": 0,
            "ticks": ""
           }
          },
          "colorscale": {
           "diverging": [
            [
             0,
             "#8e0152"
            ],
            [
             0.1,
             "#c51b7d"
            ],
            [
             0.2,
             "#de77ae"
            ],
            [
             0.3,
             "#f1b6da"
            ],
            [
             0.4,
             "#fde0ef"
            ],
            [
             0.5,
             "#f7f7f7"
            ],
            [
             0.6,
             "#e6f5d0"
            ],
            [
             0.7,
             "#b8e186"
            ],
            [
             0.8,
             "#7fbc41"
            ],
            [
             0.9,
             "#4d9221"
            ],
            [
             1,
             "#276419"
            ]
           ],
           "sequential": [
            [
             0,
             "#0d0887"
            ],
            [
             0.1111111111111111,
             "#46039f"
            ],
            [
             0.2222222222222222,
             "#7201a8"
            ],
            [
             0.3333333333333333,
             "#9c179e"
            ],
            [
             0.4444444444444444,
             "#bd3786"
            ],
            [
             0.5555555555555556,
             "#d8576b"
            ],
            [
             0.6666666666666666,
             "#ed7953"
            ],
            [
             0.7777777777777778,
             "#fb9f3a"
            ],
            [
             0.8888888888888888,
             "#fdca26"
            ],
            [
             1,
             "#f0f921"
            ]
           ],
           "sequentialminus": [
            [
             0,
             "#0d0887"
            ],
            [
             0.1111111111111111,
             "#46039f"
            ],
            [
             0.2222222222222222,
             "#7201a8"
            ],
            [
             0.3333333333333333,
             "#9c179e"
            ],
            [
             0.4444444444444444,
             "#bd3786"
            ],
            [
             0.5555555555555556,
             "#d8576b"
            ],
            [
             0.6666666666666666,
             "#ed7953"
            ],
            [
             0.7777777777777778,
             "#fb9f3a"
            ],
            [
             0.8888888888888888,
             "#fdca26"
            ],
            [
             1,
             "#f0f921"
            ]
           ]
          },
          "colorway": [
           "#636efa",
           "#EF553B",
           "#00cc96",
           "#ab63fa",
           "#FFA15A",
           "#19d3f3",
           "#FF6692",
           "#B6E880",
           "#FF97FF",
           "#FECB52"
          ],
          "font": {
           "color": "#2a3f5f"
          },
          "geo": {
           "bgcolor": "white",
           "lakecolor": "white",
           "landcolor": "#E5ECF6",
           "showlakes": true,
           "showland": true,
           "subunitcolor": "white"
          },
          "hoverlabel": {
           "align": "left"
          },
          "hovermode": "closest",
          "mapbox": {
           "style": "light"
          },
          "paper_bgcolor": "white",
          "plot_bgcolor": "#E5ECF6",
          "polar": {
           "angularaxis": {
            "gridcolor": "white",
            "linecolor": "white",
            "ticks": ""
           },
           "bgcolor": "#E5ECF6",
           "radialaxis": {
            "gridcolor": "white",
            "linecolor": "white",
            "ticks": ""
           }
          },
          "scene": {
           "xaxis": {
            "backgroundcolor": "#E5ECF6",
            "gridcolor": "white",
            "gridwidth": 2,
            "linecolor": "white",
            "showbackground": true,
            "ticks": "",
            "zerolinecolor": "white"
           },
           "yaxis": {
            "backgroundcolor": "#E5ECF6",
            "gridcolor": "white",
            "gridwidth": 2,
            "linecolor": "white",
            "showbackground": true,
            "ticks": "",
            "zerolinecolor": "white"
           },
           "zaxis": {
            "backgroundcolor": "#E5ECF6",
            "gridcolor": "white",
            "gridwidth": 2,
            "linecolor": "white",
            "showbackground": true,
            "ticks": "",
            "zerolinecolor": "white"
           }
          },
          "shapedefaults": {
           "line": {
            "color": "#2a3f5f"
           }
          },
          "ternary": {
           "aaxis": {
            "gridcolor": "white",
            "linecolor": "white",
            "ticks": ""
           },
           "baxis": {
            "gridcolor": "white",
            "linecolor": "white",
            "ticks": ""
           },
           "bgcolor": "#E5ECF6",
           "caxis": {
            "gridcolor": "white",
            "linecolor": "white",
            "ticks": ""
           }
          },
          "title": {
           "x": 0.05
          },
          "xaxis": {
           "automargin": true,
           "gridcolor": "white",
           "linecolor": "white",
           "ticks": "",
           "title": {
            "standoff": 15
           },
           "zerolinecolor": "white",
           "zerolinewidth": 2
          },
          "yaxis": {
           "automargin": true,
           "gridcolor": "white",
           "linecolor": "white",
           "ticks": "",
           "title": {
            "standoff": 15
           },
           "zerolinecolor": "white",
           "zerolinewidth": 2
          }
         }
        },
        "title": {
         "text": "TOP 10 OF REGISTERED USERS"
        },
        "width": 1000,
        "xaxis": {
         "anchor": "y",
         "domain": [
          0,
          1
         ],
         "title": {
          "text": "states"
         }
        },
        "yaxis": {
         "anchor": "x",
         "domain": [
          0,
          1
         ],
         "title": {
          "text": "registeredusers"
         }
        }
       }
      }
     },
     "metadata": {},
     "output_type": "display_data"
    },
    {
     "data": {
      "application/vnd.plotly.v1+json": {
       "config": {
        "plotlyServerURL": "https://plot.ly"
       },
       "data": [
        {
         "alignmentgroup": "True",
         "hovertemplate": "<b>%{hovertext}</b><br><br>states=%{x}<br>registeredusers=%{y}<extra></extra>",
         "hovertext": [
          "Lakshadweep",
          "Andaman & Nicobar",
          "Mizoram",
          "Ladakh",
          "Meghalaya",
          "Nagaland",
          "Sikkim",
          "Arunachal Pradesh",
          "Manipur",
          "Tripura"
         ],
         "legendgroup": "",
         "marker": {
          "color": "rgb(237, 239, 93)",
          "pattern": {
           "shape": ""
          }
         },
         "name": "",
         "offsetgroup": "",
         "orientation": "v",
         "showlegend": false,
         "textposition": "auto",
         "type": "bar",
         "x": [
          "Lakshadweep",
          "Andaman & Nicobar",
          "Mizoram",
          "Ladakh",
          "Meghalaya",
          "Nagaland",
          "Sikkim",
          "Arunachal Pradesh",
          "Manipur",
          "Tripura"
         ],
         "xaxis": "x",
         "y": [
          358599,
          3901614,
          4391124,
          5244807,
          7669239,
          10099824,
          10226373,
          11329662,
          12191028,
          12894582
         ],
         "yaxis": "y"
        }
       ],
       "layout": {
        "barmode": "relative",
        "height": 800,
        "legend": {
         "tracegroupgap": 0
        },
        "template": {
         "data": {
          "bar": [
           {
            "error_x": {
             "color": "#2a3f5f"
            },
            "error_y": {
             "color": "#2a3f5f"
            },
            "marker": {
             "line": {
              "color": "#E5ECF6",
              "width": 0.5
             },
             "pattern": {
              "fillmode": "overlay",
              "size": 10,
              "solidity": 0.2
             }
            },
            "type": "bar"
           }
          ],
          "barpolar": [
           {
            "marker": {
             "line": {
              "color": "#E5ECF6",
              "width": 0.5
             },
             "pattern": {
              "fillmode": "overlay",
              "size": 10,
              "solidity": 0.2
             }
            },
            "type": "barpolar"
           }
          ],
          "carpet": [
           {
            "aaxis": {
             "endlinecolor": "#2a3f5f",
             "gridcolor": "white",
             "linecolor": "white",
             "minorgridcolor": "white",
             "startlinecolor": "#2a3f5f"
            },
            "baxis": {
             "endlinecolor": "#2a3f5f",
             "gridcolor": "white",
             "linecolor": "white",
             "minorgridcolor": "white",
             "startlinecolor": "#2a3f5f"
            },
            "type": "carpet"
           }
          ],
          "choropleth": [
           {
            "colorbar": {
             "outlinewidth": 0,
             "ticks": ""
            },
            "type": "choropleth"
           }
          ],
          "contour": [
           {
            "colorbar": {
             "outlinewidth": 0,
             "ticks": ""
            },
            "colorscale": [
             [
              0,
              "#0d0887"
             ],
             [
              0.1111111111111111,
              "#46039f"
             ],
             [
              0.2222222222222222,
              "#7201a8"
             ],
             [
              0.3333333333333333,
              "#9c179e"
             ],
             [
              0.4444444444444444,
              "#bd3786"
             ],
             [
              0.5555555555555556,
              "#d8576b"
             ],
             [
              0.6666666666666666,
              "#ed7953"
             ],
             [
              0.7777777777777778,
              "#fb9f3a"
             ],
             [
              0.8888888888888888,
              "#fdca26"
             ],
             [
              1,
              "#f0f921"
             ]
            ],
            "type": "contour"
           }
          ],
          "contourcarpet": [
           {
            "colorbar": {
             "outlinewidth": 0,
             "ticks": ""
            },
            "type": "contourcarpet"
           }
          ],
          "heatmap": [
           {
            "colorbar": {
             "outlinewidth": 0,
             "ticks": ""
            },
            "colorscale": [
             [
              0,
              "#0d0887"
             ],
             [
              0.1111111111111111,
              "#46039f"
             ],
             [
              0.2222222222222222,
              "#7201a8"
             ],
             [
              0.3333333333333333,
              "#9c179e"
             ],
             [
              0.4444444444444444,
              "#bd3786"
             ],
             [
              0.5555555555555556,
              "#d8576b"
             ],
             [
              0.6666666666666666,
              "#ed7953"
             ],
             [
              0.7777777777777778,
              "#fb9f3a"
             ],
             [
              0.8888888888888888,
              "#fdca26"
             ],
             [
              1,
              "#f0f921"
             ]
            ],
            "type": "heatmap"
           }
          ],
          "heatmapgl": [
           {
            "colorbar": {
             "outlinewidth": 0,
             "ticks": ""
            },
            "colorscale": [
             [
              0,
              "#0d0887"
             ],
             [
              0.1111111111111111,
              "#46039f"
             ],
             [
              0.2222222222222222,
              "#7201a8"
             ],
             [
              0.3333333333333333,
              "#9c179e"
             ],
             [
              0.4444444444444444,
              "#bd3786"
             ],
             [
              0.5555555555555556,
              "#d8576b"
             ],
             [
              0.6666666666666666,
              "#ed7953"
             ],
             [
              0.7777777777777778,
              "#fb9f3a"
             ],
             [
              0.8888888888888888,
              "#fdca26"
             ],
             [
              1,
              "#f0f921"
             ]
            ],
            "type": "heatmapgl"
           }
          ],
          "histogram": [
           {
            "marker": {
             "pattern": {
              "fillmode": "overlay",
              "size": 10,
              "solidity": 0.2
             }
            },
            "type": "histogram"
           }
          ],
          "histogram2d": [
           {
            "colorbar": {
             "outlinewidth": 0,
             "ticks": ""
            },
            "colorscale": [
             [
              0,
              "#0d0887"
             ],
             [
              0.1111111111111111,
              "#46039f"
             ],
             [
              0.2222222222222222,
              "#7201a8"
             ],
             [
              0.3333333333333333,
              "#9c179e"
             ],
             [
              0.4444444444444444,
              "#bd3786"
             ],
             [
              0.5555555555555556,
              "#d8576b"
             ],
             [
              0.6666666666666666,
              "#ed7953"
             ],
             [
              0.7777777777777778,
              "#fb9f3a"
             ],
             [
              0.8888888888888888,
              "#fdca26"
             ],
             [
              1,
              "#f0f921"
             ]
            ],
            "type": "histogram2d"
           }
          ],
          "histogram2dcontour": [
           {
            "colorbar": {
             "outlinewidth": 0,
             "ticks": ""
            },
            "colorscale": [
             [
              0,
              "#0d0887"
             ],
             [
              0.1111111111111111,
              "#46039f"
             ],
             [
              0.2222222222222222,
              "#7201a8"
             ],
             [
              0.3333333333333333,
              "#9c179e"
             ],
             [
              0.4444444444444444,
              "#bd3786"
             ],
             [
              0.5555555555555556,
              "#d8576b"
             ],
             [
              0.6666666666666666,
              "#ed7953"
             ],
             [
              0.7777777777777778,
              "#fb9f3a"
             ],
             [
              0.8888888888888888,
              "#fdca26"
             ],
             [
              1,
              "#f0f921"
             ]
            ],
            "type": "histogram2dcontour"
           }
          ],
          "mesh3d": [
           {
            "colorbar": {
             "outlinewidth": 0,
             "ticks": ""
            },
            "type": "mesh3d"
           }
          ],
          "parcoords": [
           {
            "line": {
             "colorbar": {
              "outlinewidth": 0,
              "ticks": ""
             }
            },
            "type": "parcoords"
           }
          ],
          "pie": [
           {
            "automargin": true,
            "type": "pie"
           }
          ],
          "scatter": [
           {
            "fillpattern": {
             "fillmode": "overlay",
             "size": 10,
             "solidity": 0.2
            },
            "type": "scatter"
           }
          ],
          "scatter3d": [
           {
            "line": {
             "colorbar": {
              "outlinewidth": 0,
              "ticks": ""
             }
            },
            "marker": {
             "colorbar": {
              "outlinewidth": 0,
              "ticks": ""
             }
            },
            "type": "scatter3d"
           }
          ],
          "scattercarpet": [
           {
            "marker": {
             "colorbar": {
              "outlinewidth": 0,
              "ticks": ""
             }
            },
            "type": "scattercarpet"
           }
          ],
          "scattergeo": [
           {
            "marker": {
             "colorbar": {
              "outlinewidth": 0,
              "ticks": ""
             }
            },
            "type": "scattergeo"
           }
          ],
          "scattergl": [
           {
            "marker": {
             "colorbar": {
              "outlinewidth": 0,
              "ticks": ""
             }
            },
            "type": "scattergl"
           }
          ],
          "scattermapbox": [
           {
            "marker": {
             "colorbar": {
              "outlinewidth": 0,
              "ticks": ""
             }
            },
            "type": "scattermapbox"
           }
          ],
          "scatterpolar": [
           {
            "marker": {
             "colorbar": {
              "outlinewidth": 0,
              "ticks": ""
             }
            },
            "type": "scatterpolar"
           }
          ],
          "scatterpolargl": [
           {
            "marker": {
             "colorbar": {
              "outlinewidth": 0,
              "ticks": ""
             }
            },
            "type": "scatterpolargl"
           }
          ],
          "scatterternary": [
           {
            "marker": {
             "colorbar": {
              "outlinewidth": 0,
              "ticks": ""
             }
            },
            "type": "scatterternary"
           }
          ],
          "surface": [
           {
            "colorbar": {
             "outlinewidth": 0,
             "ticks": ""
            },
            "colorscale": [
             [
              0,
              "#0d0887"
             ],
             [
              0.1111111111111111,
              "#46039f"
             ],
             [
              0.2222222222222222,
              "#7201a8"
             ],
             [
              0.3333333333333333,
              "#9c179e"
             ],
             [
              0.4444444444444444,
              "#bd3786"
             ],
             [
              0.5555555555555556,
              "#d8576b"
             ],
             [
              0.6666666666666666,
              "#ed7953"
             ],
             [
              0.7777777777777778,
              "#fb9f3a"
             ],
             [
              0.8888888888888888,
              "#fdca26"
             ],
             [
              1,
              "#f0f921"
             ]
            ],
            "type": "surface"
           }
          ],
          "table": [
           {
            "cells": {
             "fill": {
              "color": "#EBF0F8"
             },
             "line": {
              "color": "white"
             }
            },
            "header": {
             "fill": {
              "color": "#C8D4E3"
             },
             "line": {
              "color": "white"
             }
            },
            "type": "table"
           }
          ]
         },
         "layout": {
          "annotationdefaults": {
           "arrowcolor": "#2a3f5f",
           "arrowhead": 0,
           "arrowwidth": 1
          },
          "autotypenumbers": "strict",
          "coloraxis": {
           "colorbar": {
            "outlinewidth": 0,
            "ticks": ""
           }
          },
          "colorscale": {
           "diverging": [
            [
             0,
             "#8e0152"
            ],
            [
             0.1,
             "#c51b7d"
            ],
            [
             0.2,
             "#de77ae"
            ],
            [
             0.3,
             "#f1b6da"
            ],
            [
             0.4,
             "#fde0ef"
            ],
            [
             0.5,
             "#f7f7f7"
            ],
            [
             0.6,
             "#e6f5d0"
            ],
            [
             0.7,
             "#b8e186"
            ],
            [
             0.8,
             "#7fbc41"
            ],
            [
             0.9,
             "#4d9221"
            ],
            [
             1,
             "#276419"
            ]
           ],
           "sequential": [
            [
             0,
             "#0d0887"
            ],
            [
             0.1111111111111111,
             "#46039f"
            ],
            [
             0.2222222222222222,
             "#7201a8"
            ],
            [
             0.3333333333333333,
             "#9c179e"
            ],
            [
             0.4444444444444444,
             "#bd3786"
            ],
            [
             0.5555555555555556,
             "#d8576b"
            ],
            [
             0.6666666666666666,
             "#ed7953"
            ],
            [
             0.7777777777777778,
             "#fb9f3a"
            ],
            [
             0.8888888888888888,
             "#fdca26"
            ],
            [
             1,
             "#f0f921"
            ]
           ],
           "sequentialminus": [
            [
             0,
             "#0d0887"
            ],
            [
             0.1111111111111111,
             "#46039f"
            ],
            [
             0.2222222222222222,
             "#7201a8"
            ],
            [
             0.3333333333333333,
             "#9c179e"
            ],
            [
             0.4444444444444444,
             "#bd3786"
            ],
            [
             0.5555555555555556,
             "#d8576b"
            ],
            [
             0.6666666666666666,
             "#ed7953"
            ],
            [
             0.7777777777777778,
             "#fb9f3a"
            ],
            [
             0.8888888888888888,
             "#fdca26"
            ],
            [
             1,
             "#f0f921"
            ]
           ]
          },
          "colorway": [
           "#636efa",
           "#EF553B",
           "#00cc96",
           "#ab63fa",
           "#FFA15A",
           "#19d3f3",
           "#FF6692",
           "#B6E880",
           "#FF97FF",
           "#FECB52"
          ],
          "font": {
           "color": "#2a3f5f"
          },
          "geo": {
           "bgcolor": "white",
           "lakecolor": "white",
           "landcolor": "#E5ECF6",
           "showlakes": true,
           "showland": true,
           "subunitcolor": "white"
          },
          "hoverlabel": {
           "align": "left"
          },
          "hovermode": "closest",
          "mapbox": {
           "style": "light"
          },
          "paper_bgcolor": "white",
          "plot_bgcolor": "#E5ECF6",
          "polar": {
           "angularaxis": {
            "gridcolor": "white",
            "linecolor": "white",
            "ticks": ""
           },
           "bgcolor": "#E5ECF6",
           "radialaxis": {
            "gridcolor": "white",
            "linecolor": "white",
            "ticks": ""
           }
          },
          "scene": {
           "xaxis": {
            "backgroundcolor": "#E5ECF6",
            "gridcolor": "white",
            "gridwidth": 2,
            "linecolor": "white",
            "showbackground": true,
            "ticks": "",
            "zerolinecolor": "white"
           },
           "yaxis": {
            "backgroundcolor": "#E5ECF6",
            "gridcolor": "white",
            "gridwidth": 2,
            "linecolor": "white",
            "showbackground": true,
            "ticks": "",
            "zerolinecolor": "white"
           },
           "zaxis": {
            "backgroundcolor": "#E5ECF6",
            "gridcolor": "white",
            "gridwidth": 2,
            "linecolor": "white",
            "showbackground": true,
            "ticks": "",
            "zerolinecolor": "white"
           }
          },
          "shapedefaults": {
           "line": {
            "color": "#2a3f5f"
           }
          },
          "ternary": {
           "aaxis": {
            "gridcolor": "white",
            "linecolor": "white",
            "ticks": ""
           },
           "baxis": {
            "gridcolor": "white",
            "linecolor": "white",
            "ticks": ""
           },
           "bgcolor": "#E5ECF6",
           "caxis": {
            "gridcolor": "white",
            "linecolor": "white",
            "ticks": ""
           }
          },
          "title": {
           "x": 0.05
          },
          "xaxis": {
           "automargin": true,
           "gridcolor": "white",
           "linecolor": "white",
           "ticks": "",
           "title": {
            "standoff": 15
           },
           "zerolinecolor": "white",
           "zerolinewidth": 2
          },
          "yaxis": {
           "automargin": true,
           "gridcolor": "white",
           "linecolor": "white",
           "ticks": "",
           "title": {
            "standoff": 15
           },
           "zerolinecolor": "white",
           "zerolinewidth": 2
          }
         }
        },
        "title": {
         "text": "LAST 10 OF REGISTERED USERS"
        },
        "width": 1000,
        "xaxis": {
         "anchor": "y",
         "domain": [
          0,
          1
         ],
         "title": {
          "text": "states"
         }
        },
        "yaxis": {
         "anchor": "x",
         "domain": [
          0,
          1
         ],
         "title": {
          "text": "registeredusers"
         }
        }
       }
      }
     },
     "metadata": {},
     "output_type": "display_data"
    },
    {
     "data": {
      "application/vnd.plotly.v1+json": {
       "config": {
        "plotlyServerURL": "https://plot.ly"
       },
       "data": [
        {
         "alignmentgroup": "True",
         "hovertemplate": "<b>%{hovertext}</b><br><br>registeredusers=%{x}<br>states=%{y}<extra></extra>",
         "hovertext": [
          "Lakshadweep",
          "Andaman & Nicobar",
          "Mizoram",
          "Ladakh",
          "Meghalaya",
          "Nagaland",
          "Sikkim",
          "Arunachal Pradesh",
          "Manipur",
          "Tripura",
          "Jammu & Kashmir",
          "Puducherry",
          "Goa",
          "Kerala",
          "Assam",
          "Chandigarh",
          "Dadra & Nagar Haveli & Daman & Diu",
          "Himachal Pradesh",
          "Odisha",
          "West Bengal",
          "Jharkhand",
          "Chhattisgarh",
          "Tamil Nadu",
          "Uttarakhand",
          "Punjab",
          "Andhra Pradesh",
          "Bihar",
          "Madhya Pradesh",
          "Gujarat",
          "Rajasthan",
          "Telangana",
          "Haryana",
          "Maharashtra",
          "Uttar Pradesh",
          "Karnataka",
          "Delhi"
         ],
         "legendgroup": "",
         "marker": {
          "color": "rgb(60, 9, 17)",
          "pattern": {
           "shape": ""
          }
         },
         "name": "",
         "offsetgroup": "",
         "orientation": "h",
         "showlegend": false,
         "textposition": "auto",
         "type": "bar",
         "x": [
          574.6778846153846,
          5002.069230769231,
          5629.6461538461535,
          6724.111538461539,
          9832.357692307693,
          12948.492307692308,
          13110.734615384616,
          14525.207692307691,
          15629.523076923077,
          16531.515384615384,
          20977.053846153845,
          23372.080769230768,
          24833.726923076923,
          28659.223076923077,
          32345.103846153845,
          33606.35384615385,
          37640.29914529915,
          39778.68076923077,
          79897.12692307692,
          82023.51153846153,
          93968.53076923077,
          101150.44230769231,
          103409.15,
          107403.51923076923,
          117455.74615384615,
          147010.8,
          150052.3230769231,
          162983.04230769232,
          170943.95,
          206370.39615384614,
          224491.88461538462,
          235154.1076923077,
          273926.8076923077,
          273969.95384615386,
          284462.29615384614,
          308094.0307692308
         ],
         "xaxis": "x",
         "y": [
          "Lakshadweep",
          "Andaman & Nicobar",
          "Mizoram",
          "Ladakh",
          "Meghalaya",
          "Nagaland",
          "Sikkim",
          "Arunachal Pradesh",
          "Manipur",
          "Tripura",
          "Jammu & Kashmir",
          "Puducherry",
          "Goa",
          "Kerala",
          "Assam",
          "Chandigarh",
          "Dadra & Nagar Haveli & Daman & Diu",
          "Himachal Pradesh",
          "Odisha",
          "West Bengal",
          "Jharkhand",
          "Chhattisgarh",
          "Tamil Nadu",
          "Uttarakhand",
          "Punjab",
          "Andhra Pradesh",
          "Bihar",
          "Madhya Pradesh",
          "Gujarat",
          "Rajasthan",
          "Telangana",
          "Haryana",
          "Maharashtra",
          "Uttar Pradesh",
          "Karnataka",
          "Delhi"
         ],
         "yaxis": "y"
        }
       ],
       "layout": {
        "barmode": "relative",
        "height": 800,
        "legend": {
         "tracegroupgap": 0
        },
        "template": {
         "data": {
          "bar": [
           {
            "error_x": {
             "color": "#2a3f5f"
            },
            "error_y": {
             "color": "#2a3f5f"
            },
            "marker": {
             "line": {
              "color": "#E5ECF6",
              "width": 0.5
             },
             "pattern": {
              "fillmode": "overlay",
              "size": 10,
              "solidity": 0.2
             }
            },
            "type": "bar"
           }
          ],
          "barpolar": [
           {
            "marker": {
             "line": {
              "color": "#E5ECF6",
              "width": 0.5
             },
             "pattern": {
              "fillmode": "overlay",
              "size": 10,
              "solidity": 0.2
             }
            },
            "type": "barpolar"
           }
          ],
          "carpet": [
           {
            "aaxis": {
             "endlinecolor": "#2a3f5f",
             "gridcolor": "white",
             "linecolor": "white",
             "minorgridcolor": "white",
             "startlinecolor": "#2a3f5f"
            },
            "baxis": {
             "endlinecolor": "#2a3f5f",
             "gridcolor": "white",
             "linecolor": "white",
             "minorgridcolor": "white",
             "startlinecolor": "#2a3f5f"
            },
            "type": "carpet"
           }
          ],
          "choropleth": [
           {
            "colorbar": {
             "outlinewidth": 0,
             "ticks": ""
            },
            "type": "choropleth"
           }
          ],
          "contour": [
           {
            "colorbar": {
             "outlinewidth": 0,
             "ticks": ""
            },
            "colorscale": [
             [
              0,
              "#0d0887"
             ],
             [
              0.1111111111111111,
              "#46039f"
             ],
             [
              0.2222222222222222,
              "#7201a8"
             ],
             [
              0.3333333333333333,
              "#9c179e"
             ],
             [
              0.4444444444444444,
              "#bd3786"
             ],
             [
              0.5555555555555556,
              "#d8576b"
             ],
             [
              0.6666666666666666,
              "#ed7953"
             ],
             [
              0.7777777777777778,
              "#fb9f3a"
             ],
             [
              0.8888888888888888,
              "#fdca26"
             ],
             [
              1,
              "#f0f921"
             ]
            ],
            "type": "contour"
           }
          ],
          "contourcarpet": [
           {
            "colorbar": {
             "outlinewidth": 0,
             "ticks": ""
            },
            "type": "contourcarpet"
           }
          ],
          "heatmap": [
           {
            "colorbar": {
             "outlinewidth": 0,
             "ticks": ""
            },
            "colorscale": [
             [
              0,
              "#0d0887"
             ],
             [
              0.1111111111111111,
              "#46039f"
             ],
             [
              0.2222222222222222,
              "#7201a8"
             ],
             [
              0.3333333333333333,
              "#9c179e"
             ],
             [
              0.4444444444444444,
              "#bd3786"
             ],
             [
              0.5555555555555556,
              "#d8576b"
             ],
             [
              0.6666666666666666,
              "#ed7953"
             ],
             [
              0.7777777777777778,
              "#fb9f3a"
             ],
             [
              0.8888888888888888,
              "#fdca26"
             ],
             [
              1,
              "#f0f921"
             ]
            ],
            "type": "heatmap"
           }
          ],
          "heatmapgl": [
           {
            "colorbar": {
             "outlinewidth": 0,
             "ticks": ""
            },
            "colorscale": [
             [
              0,
              "#0d0887"
             ],
             [
              0.1111111111111111,
              "#46039f"
             ],
             [
              0.2222222222222222,
              "#7201a8"
             ],
             [
              0.3333333333333333,
              "#9c179e"
             ],
             [
              0.4444444444444444,
              "#bd3786"
             ],
             [
              0.5555555555555556,
              "#d8576b"
             ],
             [
              0.6666666666666666,
              "#ed7953"
             ],
             [
              0.7777777777777778,
              "#fb9f3a"
             ],
             [
              0.8888888888888888,
              "#fdca26"
             ],
             [
              1,
              "#f0f921"
             ]
            ],
            "type": "heatmapgl"
           }
          ],
          "histogram": [
           {
            "marker": {
             "pattern": {
              "fillmode": "overlay",
              "size": 10,
              "solidity": 0.2
             }
            },
            "type": "histogram"
           }
          ],
          "histogram2d": [
           {
            "colorbar": {
             "outlinewidth": 0,
             "ticks": ""
            },
            "colorscale": [
             [
              0,
              "#0d0887"
             ],
             [
              0.1111111111111111,
              "#46039f"
             ],
             [
              0.2222222222222222,
              "#7201a8"
             ],
             [
              0.3333333333333333,
              "#9c179e"
             ],
             [
              0.4444444444444444,
              "#bd3786"
             ],
             [
              0.5555555555555556,
              "#d8576b"
             ],
             [
              0.6666666666666666,
              "#ed7953"
             ],
             [
              0.7777777777777778,
              "#fb9f3a"
             ],
             [
              0.8888888888888888,
              "#fdca26"
             ],
             [
              1,
              "#f0f921"
             ]
            ],
            "type": "histogram2d"
           }
          ],
          "histogram2dcontour": [
           {
            "colorbar": {
             "outlinewidth": 0,
             "ticks": ""
            },
            "colorscale": [
             [
              0,
              "#0d0887"
             ],
             [
              0.1111111111111111,
              "#46039f"
             ],
             [
              0.2222222222222222,
              "#7201a8"
             ],
             [
              0.3333333333333333,
              "#9c179e"
             ],
             [
              0.4444444444444444,
              "#bd3786"
             ],
             [
              0.5555555555555556,
              "#d8576b"
             ],
             [
              0.6666666666666666,
              "#ed7953"
             ],
             [
              0.7777777777777778,
              "#fb9f3a"
             ],
             [
              0.8888888888888888,
              "#fdca26"
             ],
             [
              1,
              "#f0f921"
             ]
            ],
            "type": "histogram2dcontour"
           }
          ],
          "mesh3d": [
           {
            "colorbar": {
             "outlinewidth": 0,
             "ticks": ""
            },
            "type": "mesh3d"
           }
          ],
          "parcoords": [
           {
            "line": {
             "colorbar": {
              "outlinewidth": 0,
              "ticks": ""
             }
            },
            "type": "parcoords"
           }
          ],
          "pie": [
           {
            "automargin": true,
            "type": "pie"
           }
          ],
          "scatter": [
           {
            "fillpattern": {
             "fillmode": "overlay",
             "size": 10,
             "solidity": 0.2
            },
            "type": "scatter"
           }
          ],
          "scatter3d": [
           {
            "line": {
             "colorbar": {
              "outlinewidth": 0,
              "ticks": ""
             }
            },
            "marker": {
             "colorbar": {
              "outlinewidth": 0,
              "ticks": ""
             }
            },
            "type": "scatter3d"
           }
          ],
          "scattercarpet": [
           {
            "marker": {
             "colorbar": {
              "outlinewidth": 0,
              "ticks": ""
             }
            },
            "type": "scattercarpet"
           }
          ],
          "scattergeo": [
           {
            "marker": {
             "colorbar": {
              "outlinewidth": 0,
              "ticks": ""
             }
            },
            "type": "scattergeo"
           }
          ],
          "scattergl": [
           {
            "marker": {
             "colorbar": {
              "outlinewidth": 0,
              "ticks": ""
             }
            },
            "type": "scattergl"
           }
          ],
          "scattermapbox": [
           {
            "marker": {
             "colorbar": {
              "outlinewidth": 0,
              "ticks": ""
             }
            },
            "type": "scattermapbox"
           }
          ],
          "scatterpolar": [
           {
            "marker": {
             "colorbar": {
              "outlinewidth": 0,
              "ticks": ""
             }
            },
            "type": "scatterpolar"
           }
          ],
          "scatterpolargl": [
           {
            "marker": {
             "colorbar": {
              "outlinewidth": 0,
              "ticks": ""
             }
            },
            "type": "scatterpolargl"
           }
          ],
          "scatterternary": [
           {
            "marker": {
             "colorbar": {
              "outlinewidth": 0,
              "ticks": ""
             }
            },
            "type": "scatterternary"
           }
          ],
          "surface": [
           {
            "colorbar": {
             "outlinewidth": 0,
             "ticks": ""
            },
            "colorscale": [
             [
              0,
              "#0d0887"
             ],
             [
              0.1111111111111111,
              "#46039f"
             ],
             [
              0.2222222222222222,
              "#7201a8"
             ],
             [
              0.3333333333333333,
              "#9c179e"
             ],
             [
              0.4444444444444444,
              "#bd3786"
             ],
             [
              0.5555555555555556,
              "#d8576b"
             ],
             [
              0.6666666666666666,
              "#ed7953"
             ],
             [
              0.7777777777777778,
              "#fb9f3a"
             ],
             [
              0.8888888888888888,
              "#fdca26"
             ],
             [
              1,
              "#f0f921"
             ]
            ],
            "type": "surface"
           }
          ],
          "table": [
           {
            "cells": {
             "fill": {
              "color": "#EBF0F8"
             },
             "line": {
              "color": "white"
             }
            },
            "header": {
             "fill": {
              "color": "#C8D4E3"
             },
             "line": {
              "color": "white"
             }
            },
            "type": "table"
           }
          ]
         },
         "layout": {
          "annotationdefaults": {
           "arrowcolor": "#2a3f5f",
           "arrowhead": 0,
           "arrowwidth": 1
          },
          "autotypenumbers": "strict",
          "coloraxis": {
           "colorbar": {
            "outlinewidth": 0,
            "ticks": ""
           }
          },
          "colorscale": {
           "diverging": [
            [
             0,
             "#8e0152"
            ],
            [
             0.1,
             "#c51b7d"
            ],
            [
             0.2,
             "#de77ae"
            ],
            [
             0.3,
             "#f1b6da"
            ],
            [
             0.4,
             "#fde0ef"
            ],
            [
             0.5,
             "#f7f7f7"
            ],
            [
             0.6,
             "#e6f5d0"
            ],
            [
             0.7,
             "#b8e186"
            ],
            [
             0.8,
             "#7fbc41"
            ],
            [
             0.9,
             "#4d9221"
            ],
            [
             1,
             "#276419"
            ]
           ],
           "sequential": [
            [
             0,
             "#0d0887"
            ],
            [
             0.1111111111111111,
             "#46039f"
            ],
            [
             0.2222222222222222,
             "#7201a8"
            ],
            [
             0.3333333333333333,
             "#9c179e"
            ],
            [
             0.4444444444444444,
             "#bd3786"
            ],
            [
             0.5555555555555556,
             "#d8576b"
            ],
            [
             0.6666666666666666,
             "#ed7953"
            ],
            [
             0.7777777777777778,
             "#fb9f3a"
            ],
            [
             0.8888888888888888,
             "#fdca26"
            ],
            [
             1,
             "#f0f921"
            ]
           ],
           "sequentialminus": [
            [
             0,
             "#0d0887"
            ],
            [
             0.1111111111111111,
             "#46039f"
            ],
            [
             0.2222222222222222,
             "#7201a8"
            ],
            [
             0.3333333333333333,
             "#9c179e"
            ],
            [
             0.4444444444444444,
             "#bd3786"
            ],
            [
             0.5555555555555556,
             "#d8576b"
            ],
            [
             0.6666666666666666,
             "#ed7953"
            ],
            [
             0.7777777777777778,
             "#fb9f3a"
            ],
            [
             0.8888888888888888,
             "#fdca26"
            ],
            [
             1,
             "#f0f921"
            ]
           ]
          },
          "colorway": [
           "#636efa",
           "#EF553B",
           "#00cc96",
           "#ab63fa",
           "#FFA15A",
           "#19d3f3",
           "#FF6692",
           "#B6E880",
           "#FF97FF",
           "#FECB52"
          ],
          "font": {
           "color": "#2a3f5f"
          },
          "geo": {
           "bgcolor": "white",
           "lakecolor": "white",
           "landcolor": "#E5ECF6",
           "showlakes": true,
           "showland": true,
           "subunitcolor": "white"
          },
          "hoverlabel": {
           "align": "left"
          },
          "hovermode": "closest",
          "mapbox": {
           "style": "light"
          },
          "paper_bgcolor": "white",
          "plot_bgcolor": "#E5ECF6",
          "polar": {
           "angularaxis": {
            "gridcolor": "white",
            "linecolor": "white",
            "ticks": ""
           },
           "bgcolor": "#E5ECF6",
           "radialaxis": {
            "gridcolor": "white",
            "linecolor": "white",
            "ticks": ""
           }
          },
          "scene": {
           "xaxis": {
            "backgroundcolor": "#E5ECF6",
            "gridcolor": "white",
            "gridwidth": 2,
            "linecolor": "white",
            "showbackground": true,
            "ticks": "",
            "zerolinecolor": "white"
           },
           "yaxis": {
            "backgroundcolor": "#E5ECF6",
            "gridcolor": "white",
            "gridwidth": 2,
            "linecolor": "white",
            "showbackground": true,
            "ticks": "",
            "zerolinecolor": "white"
           },
           "zaxis": {
            "backgroundcolor": "#E5ECF6",
            "gridcolor": "white",
            "gridwidth": 2,
            "linecolor": "white",
            "showbackground": true,
            "ticks": "",
            "zerolinecolor": "white"
           }
          },
          "shapedefaults": {
           "line": {
            "color": "#2a3f5f"
           }
          },
          "ternary": {
           "aaxis": {
            "gridcolor": "white",
            "linecolor": "white",
            "ticks": ""
           },
           "baxis": {
            "gridcolor": "white",
            "linecolor": "white",
            "ticks": ""
           },
           "bgcolor": "#E5ECF6",
           "caxis": {
            "gridcolor": "white",
            "linecolor": "white",
            "ticks": ""
           }
          },
          "title": {
           "x": 0.05
          },
          "xaxis": {
           "automargin": true,
           "gridcolor": "white",
           "linecolor": "white",
           "ticks": "",
           "title": {
            "standoff": 15
           },
           "zerolinecolor": "white",
           "zerolinewidth": 2
          },
          "yaxis": {
           "automargin": true,
           "gridcolor": "white",
           "linecolor": "white",
           "ticks": "",
           "title": {
            "standoff": 15
           },
           "zerolinecolor": "white",
           "zerolinewidth": 2
          }
         }
        },
        "title": {
         "text": "AVERGE OF REGISTERED USERS"
        },
        "width": 1000,
        "xaxis": {
         "anchor": "y",
         "domain": [
          0,
          1
         ],
         "title": {
          "text": "registeredusers"
         }
        },
        "yaxis": {
         "anchor": "x",
         "domain": [
          0,
          1
         ],
         "title": {
          "text": "states"
         }
        }
       }
      }
     },
     "metadata": {},
     "output_type": "display_data"
    }
   ],
   "source": [
    "top_chart_registered_users(\"top_user\")"
   ]
  },
  {
   "cell_type": "code",
   "execution_count": 30,
   "metadata": {},
   "outputs": [],
   "source": [
    "#Function_Transaction_count_amount_Year\n",
    "\n",
    "def Transaction_count_amount_Y(df, year):\n",
    "    tacy= df[df[\"Years\"]==year]\n",
    "    tacy.reset_index(drop=True, inplace = True)\n",
    "\n",
    "    tacyg = tacy.groupby(\"States\")[[\"Transaction_count\",\"Transaction_amount\"]].sum()\n",
    "    tacyg.reset_index(inplace=True)\n",
    "\n",
    "    fig_amount = px.bar(tacyg, x=\"States\", y=\"Transaction_amount\", title=f\"TRANSACTION AMOUNT - {year}\", \n",
    "                            color_discrete_sequence=px.colors.sequential.amp_r, color=\"States\")\n",
    "    fig_amount.show()\n",
    "\n",
    "    fig_count = px.bar(tacyg, x=\"States\", y=\"Transaction_count\", title=f\"TRANSACTION COUNT - {year}\",\n",
    "                           color_discrete_sequence=px.colors.sequential.Aggrnyl, color=\"States\")\n",
    "    fig_count.show()\n",
    "\n",
    "    url=\"https://gist.githubusercontent.com/jbrobst/56c13bbbf9d97d187fea01ca62ea5112/raw/e388c4cae20aa53cb5090210a42ebb9b765c0a36/india_states.geojson\"\n",
    "    response= requests.get(url)\n",
    "    data1 = json.loads(response.content)\n",
    "    states_name = []\n",
    "\n",
    "    for feature in data1[\"features\"]:\n",
    "        states_name.append(feature[\"properties\"][\"ST_NM\"])\n",
    "\n",
    "    states_name.sort()\n",
    "\n",
    "    fig_india_1 = px.choropleth(tacyg, geojson = data1, locations=\"States\", featureidkey = \"properties.ST_NM\",\n",
    "                                    color=\"Transaction_amount\", color_continuous_scale=\"Rainbow\",\n",
    "                                    range_color=(tacyg [\"Transaction_amount\"].min(), tacyg [\"Transaction_amount\"].max()),\n",
    "                                    hover_name=\"States\", title=f\"TRANSACTION AMOUNT - {year} \", fitbounds=\"locations\",\n",
    "                                    height=600,width=600)\n",
    "        \n",
    "    fig_india_1.update_geos(visible=False)\n",
    "    fig_india_1.show()\n",
    "\n",
    "    fig_india_2 = px.choropleth(tacyg, geojson = data1, locations=\"States\", featureidkey = \"properties.ST_NM\",\n",
    "                                    color=\"Transaction_count\", color_continuous_scale=\"Rainbow\",\n",
    "                                    range_color=(tacyg [\"Transaction_amount\"].min(), tacyg [\"Transaction_count\"].max()),\n",
    "                                    hover_name=\"States\", title=f\"TRANSACTION COUNT - {year} \", fitbounds=\"locations\",\n",
    "                                    height=600,width=600)\n",
    "        \n",
    "    fig_india_2.update_geos(visible=False)\n",
    "    fig_india_2.show()\n",
    "\n",
    "    return tacy\n"
   ]
  },
  {
   "cell_type": "code",
   "execution_count": 23,
   "metadata": {},
   "outputs": [],
   "source": [
    "#Function_Transaction_count_amount_Quarter\n",
    "\n",
    "def Transaction_count_amount_Y_Q(df, quarter):\n",
    "    tacy = df[df[\"Quarter\"]==quarter]\n",
    "    tacy.reset_index(drop=True, inplace = True)\n",
    "\n",
    "\n",
    "    tacyg = tacy.groupby(\"States\")[[\"Transaction_count\",\"Transaction_amount\"]].sum()\n",
    "    tacyg.reset_index(inplace=True)\n",
    "\n",
    "    fig_amount = px.bar(tacyg, x=\"States\", y=\"Transaction_amount\", title=f\"{tacy['Years'].min( )} Year TRANSACTION AMOUNT - Quarter {quarter}\", color_discrete_sequence=px.colors.sequential.amp_r, color=\"States\")\n",
    "    fig_amount.show()\n",
    "\n",
    "    fig_count = px.bar(tacyg, x=\"States\", y=\"Transaction_count\", title=f\" {tacy['Years'].min( )} TRANSACTION COUNT - Quarter {quarter}\", color_discrete_sequence=px.colors.sequential.Aggrnyl, color=\"States\")\n",
    "    fig_count.show()\n",
    "\n",
    "    url=\"https://gist.githubusercontent.com/jbrobst/56c13bbbf9d97d187fea01ca62ea5112/raw/e388c4cae20aa53cb5090210a42ebb9b765c0a36/india_states.geojson\"\n",
    "    response= requests.get(url)\n",
    "    data1 = json.loads(response.content)\n",
    "    states_name = []\n",
    "        \n",
    "    for feature in data1[\"features\"]:\n",
    "        states_name.append(feature[\"properties\"][\"ST_NM\"])\n",
    "\n",
    "    states_name.sort()\n",
    "\n",
    "\n",
    "    fig_india_1 = px.choropleth(tacyg, geojson = data1, locations=\"States\", featureidkey = \"properties.ST_NM\",\n",
    "                                color=\"Transaction_amount\", color_continuous_scale=\"Rainbow\",\n",
    "                                range_color=(tacyg [\"Transaction_amount\"].min(), tacyg [\"Transaction_amount\"].max()),\n",
    "                                hover_name=\"States\", title=f\"{tacy['Years'].min( )} Year TRANSACTION AMOUNT - Quarter {quarter}\",\n",
    "                                fitbounds=\"locations\",\n",
    "                                height=600,width=600)\n",
    "    \n",
    "    fig_india_1.update_geos(visible=False)\n",
    "    fig_india_1.show()\n",
    "\n",
    "    fig_india_2 = px.choropleth(tacyg, geojson = data1, locations=\"States\", featureidkey = \"properties.ST_NM\",\n",
    "                                    color=\"Transaction_count\", color_continuous_scale=\"Rainbow\",\n",
    "                                    range_color=(tacyg [\"Transaction_count\"].min(), tacyg [\"Transaction_count\"].max()),\n",
    "                                    hover_name=\"States\", title=f\"{tacy['Years'].min( )} Year TRANSACTION COUNT - Quarter {quarter}\", \n",
    "                                    fitbounds=\"locations\",\n",
    "                                    height=600,width=600)\n",
    "        \n",
    "    fig_india_2.update_geos(visible=False)\n",
    "    fig_india_2.show()\n",
    "\n",
    "    return tacy"
   ]
  },
  {
   "cell_type": "code",
   "execution_count": 24,
   "metadata": {},
   "outputs": [],
   "source": [
    "#Function_Transaction_Type\n",
    "\n",
    "def Aggre_tran_transaction_type(df,state):\n",
    "\n",
    "    tacy = df[df[\"States\"]==state]\n",
    "    tacy.reset_index(drop=True, inplace = True)\n",
    "\n",
    "    tacyg = tacy.groupby(\"Transaction_type\")[[\"Transaction_count\",\"Transaction_amount\"]].sum()\n",
    "    tacyg.reset_index(inplace=True)\n",
    "\n",
    "    fig_pie_1=px.pie(data_frame=tacyg, names=\"Transaction_type\", values=\"Transaction_amount\", width=600,title=f\"{state.upper()} TRANSACTION AMOUNT\",hole=0.5)\n",
    "    fig_pie_1.show()\n",
    "\n",
    "    fig_pie_2=px.pie(data_frame=tacyg, names=\"Transaction_type\", values=\"Transaction_count\", width=600,title=f\"{state.upper()} TRANSACTION COUNT\",hole=0.5)\n",
    "    fig_pie_2.show()\n",
    "\n",
    "    \n"
   ]
  },
  {
   "cell_type": "code",
   "execution_count": 25,
   "metadata": {},
   "outputs": [],
   "source": [
    "## Aggre_User_Analysis_Year\n",
    "\n",
    "def Aggre_user_plot_1(df,year):\n",
    "        \n",
    "    aguy = df[df[\"Years\"] == year]\n",
    "    aguy.reset_index(drop=True, inplace=True)\n",
    "\n",
    "    aguyg = pd.DataFrame(aguy.groupby(\"Brands\")[\"Transaction_count\"].sum())\n",
    "    aguyg.reset_index(inplace=True)\n",
    "\n",
    "    fig_bar_1 = px.bar(aguyg, x=\"Brands\", y=\"Transaction_count\", title=f\"{year} BRANDS AND TRANSACTION COUNT\",\n",
    "                    width = 1000, color_discrete_sequence = px.colors.sequential.haline_r, hover_name=\"Brands\")\n",
    "    fig_bar_1.show()\n",
    "\n",
    "    return aguy"
   ]
  },
  {
   "cell_type": "markdown",
   "metadata": {},
   "source": [
    "### Aggregated_Insurance"
   ]
  },
  {
   "cell_type": "code",
   "execution_count": null,
   "metadata": {},
   "outputs": [],
   "source": [
    "tac_Y=Transaction_count_amount_Y(Aggre_insurance,2023)"
   ]
  },
  {
   "cell_type": "code",
   "execution_count": null,
   "metadata": {},
   "outputs": [],
   "source": [
    "Transaction_count_amount_Y_Q(tac_Y,2)"
   ]
  },
  {
   "cell_type": "markdown",
   "metadata": {},
   "source": [
    "### Aggregated_Transaction"
   ]
  },
  {
   "cell_type": "code",
   "execution_count": null,
   "metadata": {},
   "outputs": [],
   "source": [
    "Aggre_tran_tac_Y=Transaction_count_amount_Y(Aggre_transaction, 2023)"
   ]
  },
  {
   "cell_type": "code",
   "execution_count": null,
   "metadata": {},
   "outputs": [],
   "source": [
    "Aggre_tran_transaction_type(Aggre_tran_tac_Y,'Tamil Nadu')"
   ]
  },
  {
   "cell_type": "code",
   "execution_count": null,
   "metadata": {},
   "outputs": [],
   "source": [
    "Aggre_tran_tac_Y_Q=Transaction_count_amount_Y_Q(Aggre_tran_tac_Y,3)"
   ]
  },
  {
   "cell_type": "code",
   "execution_count": null,
   "metadata": {},
   "outputs": [],
   "source": [
    "Aggre_tran_transaction_type(Aggre_tran_tac_Y_Q,'Tamil Nadu')"
   ]
  },
  {
   "cell_type": "markdown",
   "metadata": {},
   "source": [
    "### Aggregated_User"
   ]
  },
  {
   "cell_type": "code",
   "execution_count": null,
   "metadata": {},
   "outputs": [],
   "source": [
    "Aggre_user_Y = Aggre_user_plot_1(Aggre_user,2020)"
   ]
  },
  {
   "cell_type": "code",
   "execution_count": 8,
   "metadata": {},
   "outputs": [],
   "source": [
    "def Aggre_user_plot_2 (df,quarter):\n",
    "        \n",
    "    aguyq = df[df[\"Quarter\"] == quarter]\n",
    "    aguyq.reset_index(drop=True, inplace=True)\n",
    "\n",
    "\n",
    "    aguyqg = pd.DataFrame(aguyq.groupby(\"Brands\")[\"Transaction_count\"].sum())\n",
    "    aguyqg.reset_index(inplace=True)\n",
    "\n",
    "    fig_bar_2 = px.bar(aguyqg, x=\"Brands\", y=\"Transaction_count\", title=f\"{Aggre_user_Y [\"Years\"].min()} BRANDS AND TRANSACTION COUNT Quarter - {quarter}\",\n",
    "                width = 1000, color_discrete_sequence = px.colors.sequential.haline)\n",
    "    fig_bar_2.show()\n",
    "\n",
    "    return aguyq"
   ]
  },
  {
   "cell_type": "code",
   "execution_count": null,
   "metadata": {},
   "outputs": [],
   "source": [
    "Aggre_user_Y_Q = Aggre_user_plot_2 (Aggre_user_Y, 2)"
   ]
  },
  {
   "cell_type": "code",
   "execution_count": null,
   "metadata": {},
   "outputs": [],
   "source": [
    "def Aggre_user_plot_3(df,state):\n",
    "        \n",
    "    auyqs = df[df[\"States\"] == state]\n",
    "    auyqs.reset_index(drop=True, inplace=True)\n",
    "\n",
    "    auyqsg = pd.DataFrame(auyqs.groupby(\"Brands\")[[\"Transaction_count\", \"Percentage\"]].sum())\n",
    "    auyqsg.reset_index(inplace=True)\n",
    "\n",
    "    \n",
    "    fig_bar_3 = px.line(auyqsg, x=\"Brands\", y=\"Transaction_count\", hover_data=\"Percentage\",\n",
    "                        title=f\"{Aggre_user_Y_Q [\"Years\"].min()} {(state).upper()} BRANDS, TRANSACTION COUNT AND PERCENTAGE Quarter - {Aggre_user_Y_Q[\"Quarter\"].min()}\",\n",
    "                        width = 1000)\n",
    "    fig_bar_3.show()\n",
    "\n",
    "    return auyqs"
   ]
  },
  {
   "cell_type": "code",
   "execution_count": null,
   "metadata": {},
   "outputs": [],
   "source": [
    "Aggre_user_plot_3(Aggre_user_Y_Q, \"Tamil Nadu\")"
   ]
  },
  {
   "cell_type": "markdown",
   "metadata": {},
   "source": [
    "### Map Insurance"
   ]
  },
  {
   "cell_type": "code",
   "execution_count": null,
   "metadata": {},
   "outputs": [],
   "source": [
    "Map_insur_tac_Y=Transaction_count_amount_Y(Map_Insurance,2023)"
   ]
  },
  {
   "cell_type": "code",
   "execution_count": 10,
   "metadata": {},
   "outputs": [],
   "source": [
    "### Map_Insurance_Districts\n",
    "\n",
    "def Map_insur_Districts(df,state):\n",
    "\n",
    "    tacy = df[df[\"States\"]==state]\n",
    "    tacy.reset_index(drop=True, inplace = True)\n",
    "\n",
    "    tacyg = tacy.groupby(\"Districts\")[[\"Transaction_count\",\"Transaction_amount\"]].sum()\n",
    "    tacyg.reset_index(inplace=True)\n",
    "\n",
    "    fig_bar_1=px.bar(tacyg, x =\"Transaction_amount\", y =\"Districts\", orientation=\"h\", height=600,\n",
    "                    title=f\"{state.upper()} TRANSACTION AMOUNT\",color_discrete_sequence=px.colors.sequential.Mint_r)\n",
    "    fig_bar_1.show()\n",
    "    \n",
    "\n",
    "    fig_bar_2=px.bar(tacyg, x =\"Transaction_count\", y =\"Districts\", orientation=\"h\",height=600,\n",
    "                    title=f\"{state.upper()} TRANSACTION COUNT\",color_discrete_sequence=px.colors.sequential.Bluered_r)\n",
    "    fig_bar_2.show()"
   ]
  },
  {
   "cell_type": "code",
   "execution_count": null,
   "metadata": {},
   "outputs": [],
   "source": [
    "Map_insur_Districts(Map_insur_tac_Y, \"Tamil Nadu\" )"
   ]
  },
  {
   "cell_type": "code",
   "execution_count": null,
   "metadata": {},
   "outputs": [],
   "source": [
    "Map_insur_tac_Y_Q=Transaction_count_amount_Y_Q(Map_insur_tac_Y,3)"
   ]
  },
  {
   "cell_type": "code",
   "execution_count": null,
   "metadata": {},
   "outputs": [],
   "source": [
    "Map_insur_Districts(Map_insur_tac_Y_Q, \"Tamil Nadu\" )"
   ]
  },
  {
   "cell_type": "markdown",
   "metadata": {},
   "source": [
    "### Map_Transaction"
   ]
  },
  {
   "cell_type": "code",
   "execution_count": null,
   "metadata": {},
   "outputs": [],
   "source": [
    "Map_trans_tac_Y = Transaction_count_amount_Y(Map_transaction,2023)"
   ]
  },
  {
   "cell_type": "code",
   "execution_count": null,
   "metadata": {},
   "outputs": [],
   "source": [
    "Map_insur_Districts(Map_trans_tac_Y, \"Tamil Nadu\")"
   ]
  },
  {
   "cell_type": "code",
   "execution_count": null,
   "metadata": {},
   "outputs": [],
   "source": [
    "Map_trans_tac_Y_Q=Transaction_count_amount_Y_Q(Map_trans_tac_Y,3)"
   ]
  },
  {
   "cell_type": "code",
   "execution_count": null,
   "metadata": {},
   "outputs": [],
   "source": [
    "Map_insur_Districts(Map_trans_tac_Y_Q, \"Tamil Nadu\")"
   ]
  },
  {
   "cell_type": "markdown",
   "metadata": {},
   "source": [
    "### Map User"
   ]
  },
  {
   "cell_type": "code",
   "execution_count": 11,
   "metadata": {},
   "outputs": [],
   "source": [
    "##map_user_plot_1\n",
    "\n",
    "def map_user_plot_1(df, year):\n",
    "    muy = df[df[\"Years\"] == year]\n",
    "    muy.reset_index(drop=True, inplace=True)\n",
    "\n",
    "    muyg = muy.groupby(\"States\")[[\"RegisteredUsers\", \"AppOpens\"]].sum()\n",
    "    muyg.reset_index(inplace=True)\n",
    "\n",
    "    fig_bar_1 = px.line(muyg, x=\"States\", y=[\"RegisteredUsers\",\"AppOpens\"] , title=f\"{year} REGISTEREDUSER APPOPENS\",\n",
    "                        width = 1000, height=800, markers=True)\n",
    "    fig_bar_1.show()\n",
    "\n",
    "    return muy"
   ]
  },
  {
   "cell_type": "code",
   "execution_count": null,
   "metadata": {},
   "outputs": [
    {
     "data": {
      "text/plain": [
       "np.int64(0)"
      ]
     },
     "execution_count": 18,
     "metadata": {},
     "output_type": "execute_result"
    }
   ],
   "source": [
    "Map_user"
   ]
  },
  {
   "cell_type": "code",
   "execution_count": null,
   "metadata": {},
   "outputs": [],
   "source": [
    "Map_user_Y=map_user_plot_1(Map_user, 2022)"
   ]
  },
  {
   "cell_type": "code",
   "execution_count": null,
   "metadata": {},
   "outputs": [],
   "source": [
    "##map_user_plot_2\n",
    "\n",
    "def map_user_plot_2(df, quarter):\n",
    "    muyq = df[df[\"Quarter\"] == quarter]\n",
    "    muyq.reset_index(drop=True, inplace=True)\n",
    "\n",
    "    muyqg = muyq.groupby(\"States\")[[\"RegisteredUsers\", \"AppOpens\"]].sum()\n",
    "    muyqg.reset_index(inplace=True)\n",
    "\n",
    "    fig_bar_1 = px.line(muyqg, x=\"States\", y=[\"RegisteredUsers\",\"AppOpens\"] , title=f\"{df['Years'].min()} YEAR {quarter} QUARTER REGISTEREDUSER APPOPENS\",\n",
    "                        width = 1000, height=800, markers=True, color_discrete_sequence=px.colors.sequential.Rainbow_r)\n",
    "    fig_bar_1.show()\n",
    "\n",
    "    return muyq"
   ]
  },
  {
   "cell_type": "code",
   "execution_count": null,
   "metadata": {},
   "outputs": [],
   "source": [
    "Map_user_Y_Q = map_user_plot_2(Map_user_Y,2)"
   ]
  },
  {
   "cell_type": "code",
   "execution_count": null,
   "metadata": {},
   "outputs": [],
   "source": [
    "Map_user_Y_Q"
   ]
  },
  {
   "cell_type": "code",
   "execution_count": 14,
   "metadata": {},
   "outputs": [],
   "source": [
    "#Map_user_plot_3\n",
    "\n",
    "def map_user_plot_3(df,states):\n",
    "    muyqs = df[df[\"States\"] == states]\n",
    "    muyqs.reset_index(drop=True, inplace=True)\n",
    "\n",
    "    muyqsg = muyqs.groupby(\"Districts\")[[\"RegisteredUsers\", \"AppOpens\"]].sum()\n",
    "    muyqsg.reset_index(inplace=True)\n",
    "\n",
    "    fig_map_user_bar_1 = px.bar(muyqsg, x=\"RegisteredUsers\", y=\"Districts\", orientation=\"h\",\n",
    "                                title=f\"{states.upper()} REGISTERED USER\", width = 1000, height=800, color_discrete_sequence=px.colors.sequential.Rainbow_r)\n",
    "    fig_map_user_bar_1.show()\n",
    "\n",
    "    fig_map_user_bar_2 = px.bar(muyqsg, x=\"AppOpens\", y=\"Districts\", orientation=\"h\",\n",
    "                                title=f\"{states.upper()} APPOPENS\", width = 1000, height=800, color_discrete_sequence=px.colors.sequential.Rainbow)\n",
    "    fig_map_user_bar_2.show()"
   ]
  },
  {
   "cell_type": "code",
   "execution_count": null,
   "metadata": {},
   "outputs": [],
   "source": [
    "map_user_plot_3(Map_user_Y_Q,\"West Bengal\")"
   ]
  },
  {
   "cell_type": "markdown",
   "metadata": {},
   "source": [
    "### Top_insurance"
   ]
  },
  {
   "cell_type": "code",
   "execution_count": null,
   "metadata": {},
   "outputs": [],
   "source": [
    "Top_insur_tac_Y=Transaction_count_amount_Y(Top_insurance,2023)"
   ]
  },
  {
   "cell_type": "code",
   "execution_count": 15,
   "metadata": {},
   "outputs": [],
   "source": [
    "#top_insurance_plot_1\n",
    "\n",
    "def Top_insurance_plot_1(df,state):\n",
    "    tiy = df[df[\"States\"] == state]\n",
    "    tiy.reset_index(drop=True, inplace=True)\n",
    "\n",
    "    tiyg = tiy.groupby(\"Pincodes\")[[\"Transaction_count\", \"Transaction_amount\"]].sum()\n",
    "    tiyg.reset_index(inplace=True)\n",
    "\n",
    "    fig_Top_insur_bar_1 = px.bar(tiy, x=\"Quarter\", y=\"Transaction_amount\", hover_data=\"Pincodes\",\n",
    "                                title=f\"TRANSACTION AMOUNT\", width = 1000, height=800, color_discrete_sequence=px.colors.sequential.YlGn_r)\n",
    "    fig_Top_insur_bar_1.show()\n",
    "\n",
    "    fig_Top_insur_bar_2 = px.bar(tiy, x=\"Quarter\", y=\"Transaction_count\", hover_data=\"Pincodes\",\n",
    "                                title=f\"TRANSACTION COUNT\", width = 1000, height=800, color_discrete_sequence=px.colors.sequential.YlGnBu_r)\n",
    "    fig_Top_insur_bar_2.show()\n"
   ]
  },
  {
   "cell_type": "code",
   "execution_count": null,
   "metadata": {},
   "outputs": [],
   "source": [
    "Top_insurance_plot_1(Top_insur_tac_Y,\"West Bengal\")"
   ]
  },
  {
   "cell_type": "code",
   "execution_count": null,
   "metadata": {},
   "outputs": [],
   "source": [
    "Top_insur_tac_Y_Q=Transaction_count_amount_Y_Q(Top_insur_tac_Y,3)"
   ]
  },
  {
   "cell_type": "markdown",
   "metadata": {},
   "source": [
    "### Top Transaction"
   ]
  },
  {
   "cell_type": "code",
   "execution_count": null,
   "metadata": {},
   "outputs": [],
   "source": [
    "Top_trans_tac_Y=Transaction_count_amount_Y(Top_transaction,2023)"
   ]
  },
  {
   "cell_type": "code",
   "execution_count": null,
   "metadata": {},
   "outputs": [],
   "source": [
    "Top_insurance_plot_1(Top_trans_tac_Y,\"West Bengal\")"
   ]
  },
  {
   "cell_type": "code",
   "execution_count": null,
   "metadata": {},
   "outputs": [],
   "source": [
    "Top_insur_tac_Y_Q=Transaction_count_amount_Y_Q(Top_trans_tac_Y,3)"
   ]
  },
  {
   "cell_type": "markdown",
   "metadata": {},
   "source": [
    "### Top User"
   ]
  },
  {
   "cell_type": "code",
   "execution_count": 47,
   "metadata": {},
   "outputs": [],
   "source": [
    "# Top_User_plot_1\n",
    "\n",
    "def top_user_plot_1(df,year):\n",
    "    tuy = df[df[\"Years\"] == year]\n",
    "    tuy.reset_index(drop=True, inplace=True)\n",
    "\n",
    "    tuyg =pd.DataFrame(tuy.groupby([\"States\", \"Quarter\"])[[\"RegisteredUsers\"]].sum())\n",
    "    tuyg.reset_index(inplace=True)\n",
    "\n",
    "    fig_top_plot_1= px.bar(tuyg, x=\"States\", y=\"RegisteredUsers\", color=\"Quarter\", width=1000, height=800, \n",
    "                        color_discrete_sequence= px.colors.sequential.Burgyl, hover_name=\"States\", \n",
    "                        title=f\"{year} REGISTERED USERS\") \n",
    "    fig_top_plot_1.show()\n",
    "\n",
    "    return tuy"
   ]
  },
  {
   "cell_type": "code",
   "execution_count": null,
   "metadata": {},
   "outputs": [],
   "source": [
    "Top_user_Y= top_user_plot_1(Top_user,2023)"
   ]
  },
  {
   "cell_type": "code",
   "execution_count": null,
   "metadata": {},
   "outputs": [],
   "source": [
    "# Top_User_plot_2\n",
    "\n",
    "def top_user_plot_2(df,state):\n",
    "    tuys = df[df[\"States\"] == state]\n",
    "    tuys.reset_index(drop=True, inplace=True)\n",
    "\n",
    "    fig_top_plot_2 = px.bar(tuys, x=\"Quarter\", y=\"RegisteredUsers\", title=\"REGISTERED USER, PINCODES, QUARTER\",\n",
    "                            width=1000, height=800, color=\"RegisteredUsers\", hover_data=\"Pincodes\",\n",
    "                            color_continuous_scale=px.colors.sequential.Magenta)\n",
    "    fig_top_plot_2.show()\n",
    "\n",
    "    return tuys"
   ]
  },
  {
   "cell_type": "code",
   "execution_count": 56,
   "metadata": {},
   "outputs": [
    {
     "data": {
      "application/vnd.plotly.v1+json": {
       "config": {
        "plotlyServerURL": "https://plot.ly"
       },
       "data": [
        {
         "alignmentgroup": "True",
         "customdata": [
          [
           711101
          ],
          [
           700006
          ],
          [
           700135
          ],
          [
           700156
          ],
          [
           700039
          ],
          [
           700015
          ],
          [
           742304
          ],
          [
           721101
          ],
          [
           700091
          ],
          [
           700150
          ],
          [
           711101
          ],
          [
           700006
          ],
          [
           700135
          ],
          [
           700156
          ],
          [
           700039
          ],
          [
           700015
          ],
          [
           742304
          ],
          [
           721101
          ],
          [
           700150
          ],
          [
           700091
          ],
          [
           711101
          ],
          [
           700006
          ],
          [
           700135
          ],
          [
           700156
          ],
          [
           700039
          ],
          [
           700015
          ],
          [
           742304
          ],
          [
           721101
          ],
          [
           700150
          ],
          [
           734006
          ],
          [
           711101
          ],
          [
           700006
          ],
          [
           700135
          ],
          [
           700156
          ],
          [
           700039
          ],
          [
           700015
          ],
          [
           742304
          ],
          [
           721101
          ],
          [
           700150
          ],
          [
           700091
          ],
          [
           711101
          ],
          [
           700006
          ],
          [
           700135
          ],
          [
           700156
          ],
          [
           700039
          ],
          [
           700015
          ],
          [
           742304
          ],
          [
           721101
          ],
          [
           700091
          ],
          [
           700150
          ],
          [
           711101
          ],
          [
           700006
          ],
          [
           700135
          ],
          [
           700156
          ],
          [
           700039
          ],
          [
           700015
          ],
          [
           742304
          ],
          [
           721101
          ],
          [
           700150
          ],
          [
           700091
          ],
          [
           711101
          ],
          [
           700006
          ],
          [
           700135
          ],
          [
           700156
          ],
          [
           700039
          ],
          [
           700015
          ],
          [
           742304
          ],
          [
           721101
          ],
          [
           700150
          ],
          [
           734006
          ],
          [
           711101
          ],
          [
           700006
          ],
          [
           700135
          ],
          [
           700156
          ],
          [
           700039
          ],
          [
           700015
          ],
          [
           742304
          ],
          [
           721101
          ],
          [
           700150
          ],
          [
           700091
          ],
          [
           711101
          ],
          [
           700006
          ],
          [
           700135
          ],
          [
           700156
          ],
          [
           700039
          ],
          [
           700015
          ],
          [
           742304
          ],
          [
           721101
          ],
          [
           700091
          ],
          [
           700150
          ],
          [
           711101
          ],
          [
           700006
          ],
          [
           700135
          ],
          [
           700156
          ],
          [
           700039
          ],
          [
           700015
          ],
          [
           742304
          ],
          [
           721101
          ],
          [
           700150
          ],
          [
           700091
          ],
          [
           711101
          ],
          [
           700006
          ],
          [
           700135
          ],
          [
           700156
          ],
          [
           700039
          ],
          [
           700015
          ],
          [
           742304
          ],
          [
           721101
          ],
          [
           700150
          ],
          [
           734006
          ],
          [
           711101
          ],
          [
           700006
          ],
          [
           700135
          ],
          [
           700156
          ],
          [
           700039
          ],
          [
           700015
          ],
          [
           742304
          ],
          [
           721101
          ],
          [
           700150
          ],
          [
           700091
          ]
         ],
         "hovertemplate": "Quarter=%{x}<br>RegisteredUsers=%{marker.color}<br>Pincodes=%{customdata[0]}<extra></extra>",
         "legendgroup": "",
         "marker": {
          "color": [
           170440,
           144816,
           130409,
           119413,
           113983,
           113400,
           111188,
           110111,
           106950,
           106554,
           176861,
           150098,
           135679,
           123670,
           118190,
           117690,
           114746,
           114293,
           110694,
           110637,
           183739,
           155979,
           141013,
           128192,
           122792,
           122316,
           119245,
           118798,
           114987,
           113991,
           190311,
           161415,
           146345,
           132452,
           127254,
           126663,
           123320,
           123088,
           119283,
           118578,
           170440,
           144816,
           130409,
           119413,
           113983,
           113400,
           111188,
           110111,
           106950,
           106554,
           176861,
           150098,
           135679,
           123670,
           118190,
           117690,
           114746,
           114293,
           110694,
           110637,
           183739,
           155979,
           141013,
           128192,
           122792,
           122316,
           119245,
           118798,
           114987,
           113991,
           190311,
           161415,
           146345,
           132452,
           127254,
           126663,
           123320,
           123088,
           119283,
           118578,
           170440,
           144816,
           130409,
           119413,
           113983,
           113400,
           111188,
           110111,
           106950,
           106554,
           176861,
           150098,
           135679,
           123670,
           118190,
           117690,
           114746,
           114293,
           110694,
           110637,
           183739,
           155979,
           141013,
           128192,
           122792,
           122316,
           119245,
           118798,
           114987,
           113991,
           190311,
           161415,
           146345,
           132452,
           127254,
           126663,
           123320,
           123088,
           119283,
           118578
          ],
          "coloraxis": "coloraxis",
          "pattern": {
           "shape": ""
          }
         },
         "name": "",
         "offsetgroup": "",
         "orientation": "v",
         "showlegend": false,
         "textposition": "auto",
         "type": "bar",
         "x": [
          1,
          1,
          1,
          1,
          1,
          1,
          1,
          1,
          1,
          1,
          2,
          2,
          2,
          2,
          2,
          2,
          2,
          2,
          2,
          2,
          3,
          3,
          3,
          3,
          3,
          3,
          3,
          3,
          3,
          3,
          4,
          4,
          4,
          4,
          4,
          4,
          4,
          4,
          4,
          4,
          1,
          1,
          1,
          1,
          1,
          1,
          1,
          1,
          1,
          1,
          2,
          2,
          2,
          2,
          2,
          2,
          2,
          2,
          2,
          2,
          3,
          3,
          3,
          3,
          3,
          3,
          3,
          3,
          3,
          3,
          4,
          4,
          4,
          4,
          4,
          4,
          4,
          4,
          4,
          4,
          1,
          1,
          1,
          1,
          1,
          1,
          1,
          1,
          1,
          1,
          2,
          2,
          2,
          2,
          2,
          2,
          2,
          2,
          2,
          2,
          3,
          3,
          3,
          3,
          3,
          3,
          3,
          3,
          3,
          3,
          4,
          4,
          4,
          4,
          4,
          4,
          4,
          4,
          4,
          4
         ],
         "xaxis": "x",
         "y": [
          170440,
          144816,
          130409,
          119413,
          113983,
          113400,
          111188,
          110111,
          106950,
          106554,
          176861,
          150098,
          135679,
          123670,
          118190,
          117690,
          114746,
          114293,
          110694,
          110637,
          183739,
          155979,
          141013,
          128192,
          122792,
          122316,
          119245,
          118798,
          114987,
          113991,
          190311,
          161415,
          146345,
          132452,
          127254,
          126663,
          123320,
          123088,
          119283,
          118578,
          170440,
          144816,
          130409,
          119413,
          113983,
          113400,
          111188,
          110111,
          106950,
          106554,
          176861,
          150098,
          135679,
          123670,
          118190,
          117690,
          114746,
          114293,
          110694,
          110637,
          183739,
          155979,
          141013,
          128192,
          122792,
          122316,
          119245,
          118798,
          114987,
          113991,
          190311,
          161415,
          146345,
          132452,
          127254,
          126663,
          123320,
          123088,
          119283,
          118578,
          170440,
          144816,
          130409,
          119413,
          113983,
          113400,
          111188,
          110111,
          106950,
          106554,
          176861,
          150098,
          135679,
          123670,
          118190,
          117690,
          114746,
          114293,
          110694,
          110637,
          183739,
          155979,
          141013,
          128192,
          122792,
          122316,
          119245,
          118798,
          114987,
          113991,
          190311,
          161415,
          146345,
          132452,
          127254,
          126663,
          123320,
          123088,
          119283,
          118578
         ],
         "yaxis": "y"
        }
       ],
       "layout": {
        "barmode": "relative",
        "coloraxis": {
         "colorbar": {
          "title": {
           "text": "RegisteredUsers"
          }
         },
         "colorscale": [
          [
           0,
           "rgb(243, 203, 211)"
          ],
          [
           0.16666666666666666,
           "rgb(234, 169, 189)"
          ],
          [
           0.3333333333333333,
           "rgb(221, 136, 172)"
          ],
          [
           0.5,
           "rgb(202, 105, 157)"
          ],
          [
           0.6666666666666666,
           "rgb(177, 77, 142)"
          ],
          [
           0.8333333333333334,
           "rgb(145, 53, 125)"
          ],
          [
           1,
           "rgb(108, 33, 103)"
          ]
         ]
        },
        "height": 800,
        "legend": {
         "tracegroupgap": 0
        },
        "template": {
         "data": {
          "bar": [
           {
            "error_x": {
             "color": "#2a3f5f"
            },
            "error_y": {
             "color": "#2a3f5f"
            },
            "marker": {
             "line": {
              "color": "#E5ECF6",
              "width": 0.5
             },
             "pattern": {
              "fillmode": "overlay",
              "size": 10,
              "solidity": 0.2
             }
            },
            "type": "bar"
           }
          ],
          "barpolar": [
           {
            "marker": {
             "line": {
              "color": "#E5ECF6",
              "width": 0.5
             },
             "pattern": {
              "fillmode": "overlay",
              "size": 10,
              "solidity": 0.2
             }
            },
            "type": "barpolar"
           }
          ],
          "carpet": [
           {
            "aaxis": {
             "endlinecolor": "#2a3f5f",
             "gridcolor": "white",
             "linecolor": "white",
             "minorgridcolor": "white",
             "startlinecolor": "#2a3f5f"
            },
            "baxis": {
             "endlinecolor": "#2a3f5f",
             "gridcolor": "white",
             "linecolor": "white",
             "minorgridcolor": "white",
             "startlinecolor": "#2a3f5f"
            },
            "type": "carpet"
           }
          ],
          "choropleth": [
           {
            "colorbar": {
             "outlinewidth": 0,
             "ticks": ""
            },
            "type": "choropleth"
           }
          ],
          "contour": [
           {
            "colorbar": {
             "outlinewidth": 0,
             "ticks": ""
            },
            "colorscale": [
             [
              0,
              "#0d0887"
             ],
             [
              0.1111111111111111,
              "#46039f"
             ],
             [
              0.2222222222222222,
              "#7201a8"
             ],
             [
              0.3333333333333333,
              "#9c179e"
             ],
             [
              0.4444444444444444,
              "#bd3786"
             ],
             [
              0.5555555555555556,
              "#d8576b"
             ],
             [
              0.6666666666666666,
              "#ed7953"
             ],
             [
              0.7777777777777778,
              "#fb9f3a"
             ],
             [
              0.8888888888888888,
              "#fdca26"
             ],
             [
              1,
              "#f0f921"
             ]
            ],
            "type": "contour"
           }
          ],
          "contourcarpet": [
           {
            "colorbar": {
             "outlinewidth": 0,
             "ticks": ""
            },
            "type": "contourcarpet"
           }
          ],
          "heatmap": [
           {
            "colorbar": {
             "outlinewidth": 0,
             "ticks": ""
            },
            "colorscale": [
             [
              0,
              "#0d0887"
             ],
             [
              0.1111111111111111,
              "#46039f"
             ],
             [
              0.2222222222222222,
              "#7201a8"
             ],
             [
              0.3333333333333333,
              "#9c179e"
             ],
             [
              0.4444444444444444,
              "#bd3786"
             ],
             [
              0.5555555555555556,
              "#d8576b"
             ],
             [
              0.6666666666666666,
              "#ed7953"
             ],
             [
              0.7777777777777778,
              "#fb9f3a"
             ],
             [
              0.8888888888888888,
              "#fdca26"
             ],
             [
              1,
              "#f0f921"
             ]
            ],
            "type": "heatmap"
           }
          ],
          "heatmapgl": [
           {
            "colorbar": {
             "outlinewidth": 0,
             "ticks": ""
            },
            "colorscale": [
             [
              0,
              "#0d0887"
             ],
             [
              0.1111111111111111,
              "#46039f"
             ],
             [
              0.2222222222222222,
              "#7201a8"
             ],
             [
              0.3333333333333333,
              "#9c179e"
             ],
             [
              0.4444444444444444,
              "#bd3786"
             ],
             [
              0.5555555555555556,
              "#d8576b"
             ],
             [
              0.6666666666666666,
              "#ed7953"
             ],
             [
              0.7777777777777778,
              "#fb9f3a"
             ],
             [
              0.8888888888888888,
              "#fdca26"
             ],
             [
              1,
              "#f0f921"
             ]
            ],
            "type": "heatmapgl"
           }
          ],
          "histogram": [
           {
            "marker": {
             "pattern": {
              "fillmode": "overlay",
              "size": 10,
              "solidity": 0.2
             }
            },
            "type": "histogram"
           }
          ],
          "histogram2d": [
           {
            "colorbar": {
             "outlinewidth": 0,
             "ticks": ""
            },
            "colorscale": [
             [
              0,
              "#0d0887"
             ],
             [
              0.1111111111111111,
              "#46039f"
             ],
             [
              0.2222222222222222,
              "#7201a8"
             ],
             [
              0.3333333333333333,
              "#9c179e"
             ],
             [
              0.4444444444444444,
              "#bd3786"
             ],
             [
              0.5555555555555556,
              "#d8576b"
             ],
             [
              0.6666666666666666,
              "#ed7953"
             ],
             [
              0.7777777777777778,
              "#fb9f3a"
             ],
             [
              0.8888888888888888,
              "#fdca26"
             ],
             [
              1,
              "#f0f921"
             ]
            ],
            "type": "histogram2d"
           }
          ],
          "histogram2dcontour": [
           {
            "colorbar": {
             "outlinewidth": 0,
             "ticks": ""
            },
            "colorscale": [
             [
              0,
              "#0d0887"
             ],
             [
              0.1111111111111111,
              "#46039f"
             ],
             [
              0.2222222222222222,
              "#7201a8"
             ],
             [
              0.3333333333333333,
              "#9c179e"
             ],
             [
              0.4444444444444444,
              "#bd3786"
             ],
             [
              0.5555555555555556,
              "#d8576b"
             ],
             [
              0.6666666666666666,
              "#ed7953"
             ],
             [
              0.7777777777777778,
              "#fb9f3a"
             ],
             [
              0.8888888888888888,
              "#fdca26"
             ],
             [
              1,
              "#f0f921"
             ]
            ],
            "type": "histogram2dcontour"
           }
          ],
          "mesh3d": [
           {
            "colorbar": {
             "outlinewidth": 0,
             "ticks": ""
            },
            "type": "mesh3d"
           }
          ],
          "parcoords": [
           {
            "line": {
             "colorbar": {
              "outlinewidth": 0,
              "ticks": ""
             }
            },
            "type": "parcoords"
           }
          ],
          "pie": [
           {
            "automargin": true,
            "type": "pie"
           }
          ],
          "scatter": [
           {
            "fillpattern": {
             "fillmode": "overlay",
             "size": 10,
             "solidity": 0.2
            },
            "type": "scatter"
           }
          ],
          "scatter3d": [
           {
            "line": {
             "colorbar": {
              "outlinewidth": 0,
              "ticks": ""
             }
            },
            "marker": {
             "colorbar": {
              "outlinewidth": 0,
              "ticks": ""
             }
            },
            "type": "scatter3d"
           }
          ],
          "scattercarpet": [
           {
            "marker": {
             "colorbar": {
              "outlinewidth": 0,
              "ticks": ""
             }
            },
            "type": "scattercarpet"
           }
          ],
          "scattergeo": [
           {
            "marker": {
             "colorbar": {
              "outlinewidth": 0,
              "ticks": ""
             }
            },
            "type": "scattergeo"
           }
          ],
          "scattergl": [
           {
            "marker": {
             "colorbar": {
              "outlinewidth": 0,
              "ticks": ""
             }
            },
            "type": "scattergl"
           }
          ],
          "scattermapbox": [
           {
            "marker": {
             "colorbar": {
              "outlinewidth": 0,
              "ticks": ""
             }
            },
            "type": "scattermapbox"
           }
          ],
          "scatterpolar": [
           {
            "marker": {
             "colorbar": {
              "outlinewidth": 0,
              "ticks": ""
             }
            },
            "type": "scatterpolar"
           }
          ],
          "scatterpolargl": [
           {
            "marker": {
             "colorbar": {
              "outlinewidth": 0,
              "ticks": ""
             }
            },
            "type": "scatterpolargl"
           }
          ],
          "scatterternary": [
           {
            "marker": {
             "colorbar": {
              "outlinewidth": 0,
              "ticks": ""
             }
            },
            "type": "scatterternary"
           }
          ],
          "surface": [
           {
            "colorbar": {
             "outlinewidth": 0,
             "ticks": ""
            },
            "colorscale": [
             [
              0,
              "#0d0887"
             ],
             [
              0.1111111111111111,
              "#46039f"
             ],
             [
              0.2222222222222222,
              "#7201a8"
             ],
             [
              0.3333333333333333,
              "#9c179e"
             ],
             [
              0.4444444444444444,
              "#bd3786"
             ],
             [
              0.5555555555555556,
              "#d8576b"
             ],
             [
              0.6666666666666666,
              "#ed7953"
             ],
             [
              0.7777777777777778,
              "#fb9f3a"
             ],
             [
              0.8888888888888888,
              "#fdca26"
             ],
             [
              1,
              "#f0f921"
             ]
            ],
            "type": "surface"
           }
          ],
          "table": [
           {
            "cells": {
             "fill": {
              "color": "#EBF0F8"
             },
             "line": {
              "color": "white"
             }
            },
            "header": {
             "fill": {
              "color": "#C8D4E3"
             },
             "line": {
              "color": "white"
             }
            },
            "type": "table"
           }
          ]
         },
         "layout": {
          "annotationdefaults": {
           "arrowcolor": "#2a3f5f",
           "arrowhead": 0,
           "arrowwidth": 1
          },
          "autotypenumbers": "strict",
          "coloraxis": {
           "colorbar": {
            "outlinewidth": 0,
            "ticks": ""
           }
          },
          "colorscale": {
           "diverging": [
            [
             0,
             "#8e0152"
            ],
            [
             0.1,
             "#c51b7d"
            ],
            [
             0.2,
             "#de77ae"
            ],
            [
             0.3,
             "#f1b6da"
            ],
            [
             0.4,
             "#fde0ef"
            ],
            [
             0.5,
             "#f7f7f7"
            ],
            [
             0.6,
             "#e6f5d0"
            ],
            [
             0.7,
             "#b8e186"
            ],
            [
             0.8,
             "#7fbc41"
            ],
            [
             0.9,
             "#4d9221"
            ],
            [
             1,
             "#276419"
            ]
           ],
           "sequential": [
            [
             0,
             "#0d0887"
            ],
            [
             0.1111111111111111,
             "#46039f"
            ],
            [
             0.2222222222222222,
             "#7201a8"
            ],
            [
             0.3333333333333333,
             "#9c179e"
            ],
            [
             0.4444444444444444,
             "#bd3786"
            ],
            [
             0.5555555555555556,
             "#d8576b"
            ],
            [
             0.6666666666666666,
             "#ed7953"
            ],
            [
             0.7777777777777778,
             "#fb9f3a"
            ],
            [
             0.8888888888888888,
             "#fdca26"
            ],
            [
             1,
             "#f0f921"
            ]
           ],
           "sequentialminus": [
            [
             0,
             "#0d0887"
            ],
            [
             0.1111111111111111,
             "#46039f"
            ],
            [
             0.2222222222222222,
             "#7201a8"
            ],
            [
             0.3333333333333333,
             "#9c179e"
            ],
            [
             0.4444444444444444,
             "#bd3786"
            ],
            [
             0.5555555555555556,
             "#d8576b"
            ],
            [
             0.6666666666666666,
             "#ed7953"
            ],
            [
             0.7777777777777778,
             "#fb9f3a"
            ],
            [
             0.8888888888888888,
             "#fdca26"
            ],
            [
             1,
             "#f0f921"
            ]
           ]
          },
          "colorway": [
           "#636efa",
           "#EF553B",
           "#00cc96",
           "#ab63fa",
           "#FFA15A",
           "#19d3f3",
           "#FF6692",
           "#B6E880",
           "#FF97FF",
           "#FECB52"
          ],
          "font": {
           "color": "#2a3f5f"
          },
          "geo": {
           "bgcolor": "white",
           "lakecolor": "white",
           "landcolor": "#E5ECF6",
           "showlakes": true,
           "showland": true,
           "subunitcolor": "white"
          },
          "hoverlabel": {
           "align": "left"
          },
          "hovermode": "closest",
          "mapbox": {
           "style": "light"
          },
          "paper_bgcolor": "white",
          "plot_bgcolor": "#E5ECF6",
          "polar": {
           "angularaxis": {
            "gridcolor": "white",
            "linecolor": "white",
            "ticks": ""
           },
           "bgcolor": "#E5ECF6",
           "radialaxis": {
            "gridcolor": "white",
            "linecolor": "white",
            "ticks": ""
           }
          },
          "scene": {
           "xaxis": {
            "backgroundcolor": "#E5ECF6",
            "gridcolor": "white",
            "gridwidth": 2,
            "linecolor": "white",
            "showbackground": true,
            "ticks": "",
            "zerolinecolor": "white"
           },
           "yaxis": {
            "backgroundcolor": "#E5ECF6",
            "gridcolor": "white",
            "gridwidth": 2,
            "linecolor": "white",
            "showbackground": true,
            "ticks": "",
            "zerolinecolor": "white"
           },
           "zaxis": {
            "backgroundcolor": "#E5ECF6",
            "gridcolor": "white",
            "gridwidth": 2,
            "linecolor": "white",
            "showbackground": true,
            "ticks": "",
            "zerolinecolor": "white"
           }
          },
          "shapedefaults": {
           "line": {
            "color": "#2a3f5f"
           }
          },
          "ternary": {
           "aaxis": {
            "gridcolor": "white",
            "linecolor": "white",
            "ticks": ""
           },
           "baxis": {
            "gridcolor": "white",
            "linecolor": "white",
            "ticks": ""
           },
           "bgcolor": "#E5ECF6",
           "caxis": {
            "gridcolor": "white",
            "linecolor": "white",
            "ticks": ""
           }
          },
          "title": {
           "x": 0.05
          },
          "xaxis": {
           "automargin": true,
           "gridcolor": "white",
           "linecolor": "white",
           "ticks": "",
           "title": {
            "standoff": 15
           },
           "zerolinecolor": "white",
           "zerolinewidth": 2
          },
          "yaxis": {
           "automargin": true,
           "gridcolor": "white",
           "linecolor": "white",
           "ticks": "",
           "title": {
            "standoff": 15
           },
           "zerolinecolor": "white",
           "zerolinewidth": 2
          }
         }
        },
        "title": {
         "text": "REGISTERED USER, PINCODES, QUARTER"
        },
        "width": 1000,
        "xaxis": {
         "anchor": "y",
         "domain": [
          0,
          1
         ],
         "title": {
          "text": "Quarter"
         }
        },
        "yaxis": {
         "anchor": "x",
         "domain": [
          0,
          1
         ],
         "title": {
          "text": "RegisteredUsers"
         }
        }
       }
      }
     },
     "metadata": {},
     "output_type": "display_data"
    },
    {
     "data": {
      "text/html": [
       "<div>\n",
       "<style scoped>\n",
       "    .dataframe tbody tr th:only-of-type {\n",
       "        vertical-align: middle;\n",
       "    }\n",
       "\n",
       "    .dataframe tbody tr th {\n",
       "        vertical-align: top;\n",
       "    }\n",
       "\n",
       "    .dataframe thead th {\n",
       "        text-align: right;\n",
       "    }\n",
       "</style>\n",
       "<table border=\"1\" class=\"dataframe\">\n",
       "  <thead>\n",
       "    <tr style=\"text-align: right;\">\n",
       "      <th></th>\n",
       "      <th>States</th>\n",
       "      <th>Years</th>\n",
       "      <th>Quarter</th>\n",
       "      <th>Pincodes</th>\n",
       "      <th>RegisteredUsers</th>\n",
       "    </tr>\n",
       "  </thead>\n",
       "  <tbody>\n",
       "    <tr>\n",
       "      <th>0</th>\n",
       "      <td>West Bengal</td>\n",
       "      <td>2023</td>\n",
       "      <td>1</td>\n",
       "      <td>711101</td>\n",
       "      <td>170440</td>\n",
       "    </tr>\n",
       "    <tr>\n",
       "      <th>1</th>\n",
       "      <td>West Bengal</td>\n",
       "      <td>2023</td>\n",
       "      <td>1</td>\n",
       "      <td>700006</td>\n",
       "      <td>144816</td>\n",
       "    </tr>\n",
       "    <tr>\n",
       "      <th>2</th>\n",
       "      <td>West Bengal</td>\n",
       "      <td>2023</td>\n",
       "      <td>1</td>\n",
       "      <td>700135</td>\n",
       "      <td>130409</td>\n",
       "    </tr>\n",
       "    <tr>\n",
       "      <th>3</th>\n",
       "      <td>West Bengal</td>\n",
       "      <td>2023</td>\n",
       "      <td>1</td>\n",
       "      <td>700156</td>\n",
       "      <td>119413</td>\n",
       "    </tr>\n",
       "    <tr>\n",
       "      <th>4</th>\n",
       "      <td>West Bengal</td>\n",
       "      <td>2023</td>\n",
       "      <td>1</td>\n",
       "      <td>700039</td>\n",
       "      <td>113983</td>\n",
       "    </tr>\n",
       "    <tr>\n",
       "      <th>...</th>\n",
       "      <td>...</td>\n",
       "      <td>...</td>\n",
       "      <td>...</td>\n",
       "      <td>...</td>\n",
       "      <td>...</td>\n",
       "    </tr>\n",
       "    <tr>\n",
       "      <th>115</th>\n",
       "      <td>West Bengal</td>\n",
       "      <td>2023</td>\n",
       "      <td>4</td>\n",
       "      <td>700015</td>\n",
       "      <td>126663</td>\n",
       "    </tr>\n",
       "    <tr>\n",
       "      <th>116</th>\n",
       "      <td>West Bengal</td>\n",
       "      <td>2023</td>\n",
       "      <td>4</td>\n",
       "      <td>742304</td>\n",
       "      <td>123320</td>\n",
       "    </tr>\n",
       "    <tr>\n",
       "      <th>117</th>\n",
       "      <td>West Bengal</td>\n",
       "      <td>2023</td>\n",
       "      <td>4</td>\n",
       "      <td>721101</td>\n",
       "      <td>123088</td>\n",
       "    </tr>\n",
       "    <tr>\n",
       "      <th>118</th>\n",
       "      <td>West Bengal</td>\n",
       "      <td>2023</td>\n",
       "      <td>4</td>\n",
       "      <td>700150</td>\n",
       "      <td>119283</td>\n",
       "    </tr>\n",
       "    <tr>\n",
       "      <th>119</th>\n",
       "      <td>West Bengal</td>\n",
       "      <td>2023</td>\n",
       "      <td>4</td>\n",
       "      <td>700091</td>\n",
       "      <td>118578</td>\n",
       "    </tr>\n",
       "  </tbody>\n",
       "</table>\n",
       "<p>120 rows × 5 columns</p>\n",
       "</div>"
      ],
      "text/plain": [
       "          States  Years  Quarter  Pincodes  RegisteredUsers\n",
       "0    West Bengal   2023        1    711101           170440\n",
       "1    West Bengal   2023        1    700006           144816\n",
       "2    West Bengal   2023        1    700135           130409\n",
       "3    West Bengal   2023        1    700156           119413\n",
       "4    West Bengal   2023        1    700039           113983\n",
       "..           ...    ...      ...       ...              ...\n",
       "115  West Bengal   2023        4    700015           126663\n",
       "116  West Bengal   2023        4    742304           123320\n",
       "117  West Bengal   2023        4    721101           123088\n",
       "118  West Bengal   2023        4    700150           119283\n",
       "119  West Bengal   2023        4    700091           118578\n",
       "\n",
       "[120 rows x 5 columns]"
      ]
     },
     "execution_count": 56,
     "metadata": {},
     "output_type": "execute_result"
    }
   ],
   "source": [
    "top_user_plot_2(Top_user_Y, \"West Bengal\")"
   ]
  },
  {
   "cell_type": "code",
   "execution_count": 49,
   "metadata": {},
   "outputs": [
    {
     "data": {
      "text/html": [
       "<div>\n",
       "<style scoped>\n",
       "    .dataframe tbody tr th:only-of-type {\n",
       "        vertical-align: middle;\n",
       "    }\n",
       "\n",
       "    .dataframe tbody tr th {\n",
       "        vertical-align: top;\n",
       "    }\n",
       "\n",
       "    .dataframe thead th {\n",
       "        text-align: right;\n",
       "    }\n",
       "</style>\n",
       "<table border=\"1\" class=\"dataframe\">\n",
       "  <thead>\n",
       "    <tr style=\"text-align: right;\">\n",
       "      <th></th>\n",
       "      <th>States</th>\n",
       "      <th>Years</th>\n",
       "      <th>Quarter</th>\n",
       "      <th>Pincodes</th>\n",
       "      <th>RegisteredUsers</th>\n",
       "    </tr>\n",
       "  </thead>\n",
       "  <tbody>\n",
       "    <tr>\n",
       "      <th>0</th>\n",
       "      <td>Andaman &amp; Nicobar</td>\n",
       "      <td>2023</td>\n",
       "      <td>1</td>\n",
       "      <td>744103</td>\n",
       "      <td>18209</td>\n",
       "    </tr>\n",
       "    <tr>\n",
       "      <th>1</th>\n",
       "      <td>Andaman &amp; Nicobar</td>\n",
       "      <td>2023</td>\n",
       "      <td>1</td>\n",
       "      <td>744105</td>\n",
       "      <td>15848</td>\n",
       "    </tr>\n",
       "    <tr>\n",
       "      <th>2</th>\n",
       "      <td>Andaman &amp; Nicobar</td>\n",
       "      <td>2023</td>\n",
       "      <td>1</td>\n",
       "      <td>744101</td>\n",
       "      <td>15006</td>\n",
       "    </tr>\n",
       "    <tr>\n",
       "      <th>3</th>\n",
       "      <td>Andaman &amp; Nicobar</td>\n",
       "      <td>2023</td>\n",
       "      <td>1</td>\n",
       "      <td>744102</td>\n",
       "      <td>10033</td>\n",
       "    </tr>\n",
       "    <tr>\n",
       "      <th>4</th>\n",
       "      <td>Andaman &amp; Nicobar</td>\n",
       "      <td>2023</td>\n",
       "      <td>1</td>\n",
       "      <td>744202</td>\n",
       "      <td>4993</td>\n",
       "    </tr>\n",
       "    <tr>\n",
       "      <th>...</th>\n",
       "      <td>...</td>\n",
       "      <td>...</td>\n",
       "      <td>...</td>\n",
       "      <td>...</td>\n",
       "      <td>...</td>\n",
       "    </tr>\n",
       "    <tr>\n",
       "      <th>4279</th>\n",
       "      <td>West Bengal</td>\n",
       "      <td>2023</td>\n",
       "      <td>4</td>\n",
       "      <td>700015</td>\n",
       "      <td>126663</td>\n",
       "    </tr>\n",
       "    <tr>\n",
       "      <th>4280</th>\n",
       "      <td>West Bengal</td>\n",
       "      <td>2023</td>\n",
       "      <td>4</td>\n",
       "      <td>742304</td>\n",
       "      <td>123320</td>\n",
       "    </tr>\n",
       "    <tr>\n",
       "      <th>4281</th>\n",
       "      <td>West Bengal</td>\n",
       "      <td>2023</td>\n",
       "      <td>4</td>\n",
       "      <td>721101</td>\n",
       "      <td>123088</td>\n",
       "    </tr>\n",
       "    <tr>\n",
       "      <th>4282</th>\n",
       "      <td>West Bengal</td>\n",
       "      <td>2023</td>\n",
       "      <td>4</td>\n",
       "      <td>700150</td>\n",
       "      <td>119283</td>\n",
       "    </tr>\n",
       "    <tr>\n",
       "      <th>4283</th>\n",
       "      <td>West Bengal</td>\n",
       "      <td>2023</td>\n",
       "      <td>4</td>\n",
       "      <td>700091</td>\n",
       "      <td>118578</td>\n",
       "    </tr>\n",
       "  </tbody>\n",
       "</table>\n",
       "<p>4284 rows × 5 columns</p>\n",
       "</div>"
      ],
      "text/plain": [
       "                 States  Years  Quarter  Pincodes  RegisteredUsers\n",
       "0     Andaman & Nicobar   2023        1    744103            18209\n",
       "1     Andaman & Nicobar   2023        1    744105            15848\n",
       "2     Andaman & Nicobar   2023        1    744101            15006\n",
       "3     Andaman & Nicobar   2023        1    744102            10033\n",
       "4     Andaman & Nicobar   2023        1    744202             4993\n",
       "...                 ...    ...      ...       ...              ...\n",
       "4279        West Bengal   2023        4    700015           126663\n",
       "4280        West Bengal   2023        4    742304           123320\n",
       "4281        West Bengal   2023        4    721101           123088\n",
       "4282        West Bengal   2023        4    700150           119283\n",
       "4283        West Bengal   2023        4    700091           118578\n",
       "\n",
       "[4284 rows x 5 columns]"
      ]
     },
     "execution_count": 49,
     "metadata": {},
     "output_type": "execute_result"
    }
   ],
   "source": [
    "Top_user_Y"
   ]
  },
  {
   "cell_type": "code",
   "execution_count": 34,
   "metadata": {},
   "outputs": [
    {
     "data": {
      "text/html": [
       "<div>\n",
       "<style scoped>\n",
       "    .dataframe tbody tr th:only-of-type {\n",
       "        vertical-align: middle;\n",
       "    }\n",
       "\n",
       "    .dataframe tbody tr th {\n",
       "        vertical-align: top;\n",
       "    }\n",
       "\n",
       "    .dataframe thead th {\n",
       "        text-align: right;\n",
       "    }\n",
       "</style>\n",
       "<table border=\"1\" class=\"dataframe\">\n",
       "  <thead>\n",
       "    <tr style=\"text-align: right;\">\n",
       "      <th></th>\n",
       "      <th>States</th>\n",
       "      <th>Years</th>\n",
       "      <th>Quarter</th>\n",
       "      <th>Pincodes</th>\n",
       "      <th>RegisteredUsers</th>\n",
       "    </tr>\n",
       "  </thead>\n",
       "  <tbody>\n",
       "    <tr>\n",
       "      <th>0</th>\n",
       "      <td>Andaman &amp; Nicobar</td>\n",
       "      <td>2018</td>\n",
       "      <td>1</td>\n",
       "      <td>744103</td>\n",
       "      <td>1608</td>\n",
       "    </tr>\n",
       "    <tr>\n",
       "      <th>1</th>\n",
       "      <td>Andaman &amp; Nicobar</td>\n",
       "      <td>2018</td>\n",
       "      <td>1</td>\n",
       "      <td>744101</td>\n",
       "      <td>1108</td>\n",
       "    </tr>\n",
       "    <tr>\n",
       "      <th>2</th>\n",
       "      <td>Andaman &amp; Nicobar</td>\n",
       "      <td>2018</td>\n",
       "      <td>1</td>\n",
       "      <td>744105</td>\n",
       "      <td>1075</td>\n",
       "    </tr>\n",
       "    <tr>\n",
       "      <th>3</th>\n",
       "      <td>Andaman &amp; Nicobar</td>\n",
       "      <td>2018</td>\n",
       "      <td>1</td>\n",
       "      <td>744102</td>\n",
       "      <td>1006</td>\n",
       "    </tr>\n",
       "    <tr>\n",
       "      <th>4</th>\n",
       "      <td>Andaman &amp; Nicobar</td>\n",
       "      <td>2018</td>\n",
       "      <td>1</td>\n",
       "      <td>744104</td>\n",
       "      <td>272</td>\n",
       "    </tr>\n",
       "    <tr>\n",
       "      <th>...</th>\n",
       "      <td>...</td>\n",
       "      <td>...</td>\n",
       "      <td>...</td>\n",
       "      <td>...</td>\n",
       "      <td>...</td>\n",
       "    </tr>\n",
       "    <tr>\n",
       "      <th>27841</th>\n",
       "      <td>West Bengal</td>\n",
       "      <td>2024</td>\n",
       "      <td>2</td>\n",
       "      <td>700015</td>\n",
       "      <td>136835</td>\n",
       "    </tr>\n",
       "    <tr>\n",
       "      <th>27842</th>\n",
       "      <td>West Bengal</td>\n",
       "      <td>2024</td>\n",
       "      <td>2</td>\n",
       "      <td>721101</td>\n",
       "      <td>132872</td>\n",
       "    </tr>\n",
       "    <tr>\n",
       "      <th>27843</th>\n",
       "      <td>West Bengal</td>\n",
       "      <td>2024</td>\n",
       "      <td>2</td>\n",
       "      <td>742304</td>\n",
       "      <td>131799</td>\n",
       "    </tr>\n",
       "    <tr>\n",
       "      <th>27844</th>\n",
       "      <td>West Bengal</td>\n",
       "      <td>2024</td>\n",
       "      <td>2</td>\n",
       "      <td>700150</td>\n",
       "      <td>128721</td>\n",
       "    </tr>\n",
       "    <tr>\n",
       "      <th>27845</th>\n",
       "      <td>West Bengal</td>\n",
       "      <td>2024</td>\n",
       "      <td>2</td>\n",
       "      <td>700091</td>\n",
       "      <td>127531</td>\n",
       "    </tr>\n",
       "  </tbody>\n",
       "</table>\n",
       "<p>27846 rows × 5 columns</p>\n",
       "</div>"
      ],
      "text/plain": [
       "                  States  Years  Quarter  Pincodes  RegisteredUsers\n",
       "0      Andaman & Nicobar   2018        1    744103             1608\n",
       "1      Andaman & Nicobar   2018        1    744101             1108\n",
       "2      Andaman & Nicobar   2018        1    744105             1075\n",
       "3      Andaman & Nicobar   2018        1    744102             1006\n",
       "4      Andaman & Nicobar   2018        1    744104              272\n",
       "...                  ...    ...      ...       ...              ...\n",
       "27841        West Bengal   2024        2    700015           136835\n",
       "27842        West Bengal   2024        2    721101           132872\n",
       "27843        West Bengal   2024        2    742304           131799\n",
       "27844        West Bengal   2024        2    700150           128721\n",
       "27845        West Bengal   2024        2    700091           127531\n",
       "\n",
       "[27846 rows x 5 columns]"
      ]
     },
     "execution_count": 34,
     "metadata": {},
     "output_type": "execute_result"
    }
   ],
   "source": [
    "Top_user"
   ]
  }
 ],
 "metadata": {
  "kernelspec": {
   "display_name": ".venv",
   "language": "python",
   "name": "python3"
  },
  "language_info": {
   "codemirror_mode": {
    "name": "ipython",
    "version": 3
   },
   "file_extension": ".py",
   "mimetype": "text/x-python",
   "name": "python",
   "nbconvert_exporter": "python",
   "pygments_lexer": "ipython3",
   "version": "3.12.0"
  }
 },
 "nbformat": 4,
 "nbformat_minor": 2
}
